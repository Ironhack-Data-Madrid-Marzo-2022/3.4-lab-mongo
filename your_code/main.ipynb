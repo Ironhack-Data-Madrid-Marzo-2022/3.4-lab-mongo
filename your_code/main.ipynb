{
 "cells": [
  {
   "cell_type": "markdown",
   "metadata": {},
   "source": [
    "# Advanced Querying Mongo"
   ]
  },
  {
   "cell_type": "markdown",
   "metadata": {},
   "source": [
    "Importing libraries and setting up connection"
   ]
  },
  {
   "cell_type": "code",
   "execution_count": 1,
   "metadata": {},
   "outputs": [],
   "source": [
    "from pymongo import MongoClient\n",
    "client = MongoClient()\n",
    "db=client.companies\n",
    "colec=db.companies"
   ]
  },
  {
   "cell_type": "markdown",
   "metadata": {},
   "source": [
    "### 1. All the companies whose name match 'Babelgum'. Retrieve only their `name` field."
   ]
  },
  {
   "cell_type": "code",
   "execution_count": 2,
   "metadata": {},
   "outputs": [
    {
     "data": {
      "text/plain": [
       "[{'name': 'Babelgum'}]"
      ]
     },
     "execution_count": 2,
     "metadata": {},
     "output_type": "execute_result"
    }
   ],
   "source": [
    "list(colec.find({'name':'Babelgum'}, {'_id':0, 'name':1}))"
   ]
  },
  {
   "cell_type": "markdown",
   "metadata": {},
   "source": [
    "### 2. All the companies that have more than 5000 employees. Limit the search to 20 companies and sort them by **number of employees**."
   ]
  },
  {
   "cell_type": "code",
   "execution_count": 3,
   "metadata": {},
   "outputs": [
    {
     "name": "stdout",
     "output_type": "stream",
     "text": [
      "{'_id': ObjectId('52cdef7e4bab8bd67529aa77'), 'name': 'JDS Uniphase Corporation', 'permalink': 'jds-uniphase-corporation', 'crunchbase_url': 'http://www.crunchbase.com/company/jds-uniphase-corporation', 'homepage_url': 'http://www.jdsu.com', 'blog_url': 'http://blogs.jdsu.com/perspectives/default.aspx', 'blog_feed_url': 'http://feeds.feedburner.com/JdsuPerspectivesPosts', 'twitter_username': 'JDSU', 'category_code': 'hardware', 'number_of_employees': 5000, 'founded_year': None, 'founded_month': None, 'founded_day': None, 'deadpooled_year': None, 'deadpooled_month': None, 'deadpooled_day': None, 'deadpooled_url': None, 'tag_list': '', 'alias_list': '', 'email_address': '', 'phone_number': '+1 408 546 5000', 'description': '', 'created_at': 'Sat Jan 03 04:11:21 UTC 2009', 'updated_at': 'Thu Dec 12 04:51:28 UTC 2013', 'overview': '<p>JDSU is the worldwide leading provider of broadband test and measurement solutions and optical products for communications, commercial and consumer markets.</p>', 'image': {'available_sizes': [[[150, 33], 'assets/images/resized/0003/2907/32907v1-max-150x150.png'], [[250, 56], 'assets/images/resized/0003/2907/32907v1-max-250x250.png'], [[254, 57], 'assets/images/resized/0003/2907/32907v1-max-450x450.png']], 'attribution': None}, 'products': [], 'relationships': [{'is_past': False, 'title': 'Chairman of the Board', 'person': {'first_name': 'Marty', 'last_name': 'Kaplan', 'permalink': 'marty-kaplan'}}, {'is_past': False, 'title': 'Chairman of the Board', 'person': {'first_name': 'Martin', 'last_name': 'A. Kaplan', 'permalink': 'martin-a-kaplan'}}, {'is_past': False, 'title': 'Director, President and Chief Operating Officer', 'person': {'first_name': 'Syrus', 'last_name': 'P.Madavi', 'permalink': 'syrus-p-madavi'}}, {'is_past': False, 'title': 'Governance Committee Chair', 'person': {'first_name': 'Richard', 'last_name': 'E. Belluzzo', 'permalink': 'richard-e-belluzzo'}}, {'is_past': False, 'title': 'Principal Portfolio Architect', 'person': {'first_name': 'Peter', 'last_name': 'Mataga', 'permalink': 'peter-mataga'}}, {'is_past': False, 'title': 'Director', 'person': {'first_name': 'Harold', 'last_name': 'L. Covert', 'permalink': 'harold-l-covert'}}, {'is_past': False, 'title': 'director of advance technology', 'person': {'first_name': 'Norman', 'last_name': 'Kwong', 'permalink': 'norman-kwong'}}, {'is_past': False, 'title': 'Board of Directors', 'person': {'first_name': 'Penny', 'last_name': 'Herscher', 'permalink': 'penny-herscher'}}, {'is_past': True, 'title': 'Senior Vice President & Chief Technology Officer', 'person': {'first_name': 'Fred', 'last_name': 'J. Leonberger', 'permalink': 'fred-j-leonberger'}}, {'is_past': True, 'title': 'Vice President', 'person': {'first_name': 'Kenneth', 'last_name': 'H Traub', 'permalink': 'kenneth-h-traub'}}, {'is_past': True, 'title': 'Vice President of Strategic & Corporate Marketing', 'person': {'first_name': 'Dave', 'last_name': 'Karpenske', 'permalink': 'dave-karpenske'}}, {'is_past': True, 'title': 'Vice President of Manufacturing Operation', 'person': {'first_name': 'George', 'last_name': 'Berberis', 'permalink': 'george-berberis'}}, {'is_past': True, 'title': 'VP North America Operation, Op Comms BU, Sales Manager, GM, Shenzhen Site', 'person': {'first_name': 'Eric', 'last_name': 'Tu', 'permalink': 'eric-tu'}}, {'is_past': True, 'title': 'VP Sales & Marketing', 'person': {'first_name': 'Hal', 'last_name': 'Zarem', 'permalink': 'hal-zarem'}}, {'is_past': True, 'title': 'President & Corporate EVP', 'person': {'first_name': 'David', 'last_name': 'Gudmundson', 'permalink': 'david-gudmundson'}}, {'is_past': True, 'title': 'Manager, Director, VP / GM', 'person': {'first_name': 'Steve', 'last_name': 'P. Sapers', 'permalink': 'steve-p-sapers'}}, {'is_past': True, 'title': 'Total Rewards', 'person': {'first_name': 'Jing', 'last_name': 'Liao', 'permalink': 'jing-liao'}}, {'is_past': True, 'title': 'Sales & Marketing Specialist', 'person': {'first_name': 'Susan', 'last_name': 'Kuo', 'permalink': 'susan-kuo'}}, {'is_past': True, 'title': 'Site Operations Manager', 'person': {'first_name': 'Mike', 'last_name': 'Colby', 'permalink': 'mike-colby'}}, {'is_past': True, 'title': 'SVP Optical Communications', 'person': {'first_name': 'Keith', 'last_name': 'Lambert', 'permalink': 'keith-lambert'}}, {'is_past': True, 'title': 'Director, Strategic Marketing', 'person': {'first_name': 'Jamie', 'last_name': 'Peterson', 'permalink': 'jamie-peterson'}}, {'is_past': True, 'title': 'Director of Operations; San Jose Sites', 'person': {'first_name': 'Jim', 'last_name': 'Haden', 'permalink': 'jim-haden'}}, {'is_past': True, 'title': 'Product Development Manager', 'person': {'first_name': 'David', 'last_name': 'Dawson', 'permalink': 'david-dawson'}}, {'is_past': True, 'title': 'Director of Network Strategy', 'person': {'first_name': 'Roger', 'last_name': 'Merel', 'permalink': 'roger-merel'}}, {'is_past': True, 'title': 'Product', 'person': {'first_name': 'John', 'last_name': 'Zyskind', 'permalink': 'john-zyskind'}}, {'is_past': True, 'title': 'Director in Operations for the Optical Communications Division', 'person': {'first_name': 'Harvey', 'last_name': 'Trop', 'permalink': 'harvey-trop'}}, {'is_past': True, 'title': 'SVP, Global Sales', 'person': {'first_name': 'John', 'last_name': 'Dâ€™Anna', 'permalink': 'john-danna'}}, {'is_past': True, 'title': 'Direct Sales & Solution Specialist positions', 'person': {'first_name': 'Gerhard', 'last_name': 'Auer', 'permalink': 'gerhard-auer'}}, {'is_past': True, 'title': 'Manufacturing Manager', 'person': {'first_name': 'Robert', 'last_name': 'C.Skidmore', 'permalink': 'robert-c-skidmore'}}, {'is_past': True, 'title': 'Sales Director', 'person': {'first_name': 'Lionel', 'last_name': 'Chmilewsky', 'permalink': 'lionel-chmilewsky'}}, {'is_past': True, 'title': 'Accounting', 'person': {'first_name': 'John', 'last_name': 'Nadaskay', 'permalink': 'john-nadaskay'}}, {'is_past': True, 'title': 'Global Sales Controller', 'person': {'first_name': 'Dan', 'last_name': 'Morgan', 'permalink': 'dan-morgan'}}, {'is_past': True, 'title': 'VP of Sales', 'person': {'first_name': 'Doug', 'last_name': 'Smidl', 'permalink': 'doug-smidl'}}, {'is_past': True, 'title': 'Market Development Manager', 'person': {'first_name': 'Joe', 'last_name': 'DeBartolo', 'permalink': 'joe-debartolo'}}, {'is_past': True, 'title': 'Senior Optical Scientist and Senior Engineering Manager', 'person': {'first_name': 'Dahv', 'last_name': 'Kliner', 'permalink': 'dahv-kliner'}}, {'is_past': True, 'title': 'Senior Management', 'person': {'first_name': 'Stephen', 'last_name': 'Krasulick', 'permalink': 'stephen-krasulick'}}, {'is_past': True, 'title': 'President of the Laser and Fiber Optic Groups', 'person': {'first_name': 'Ian', 'last_name': 'Jenks', 'permalink': 'ian-jenks'}}, {'is_past': True, 'title': '', 'person': {'first_name': 'Paulo', 'last_name': 'Guedes-Pinto', 'permalink': 'paulo-guedes-pinto'}}, {'is_past': True, 'title': 'Executive Director / GM - EMEA East & Emerging Markets', 'person': {'first_name': 'Gerhard', 'last_name': 'Auer', 'permalink': 'gerhard-auer'}}, {'is_past': True, 'title': '', 'person': {'first_name': 'Ken', 'last_name': 'Scott', 'permalink': 'ken-scott'}}], 'competitions': [], 'providerships': [], 'total_money_raised': '$0', 'funding_rounds': [], 'investments': [{'funding_round': {'round_code': 'c', 'source_url': 'http://www.mintera.com/newsarticles/10-2007a.htm', 'source_description': 'Mintera', 'raised_amount': 19000000, 'raised_currency_code': 'USD', 'funded_year': 2007, 'funded_month': 10, 'funded_day': 16, 'company': {'name': 'Mintera', 'permalink': 'mintera'}}}, {'funding_round': {'round_code': 'unattributed', 'source_url': 'http://www.masshightech.com/stories/2010/11/29/daily33-Exogenesis-lands-3M-financing.html', 'source_description': 'Exogenesis lands $3M financing', 'raised_amount': 3190000, 'raised_currency_code': 'USD', 'funded_year': 2010, 'funded_month': 12, 'funded_day': 1, 'company': {'name': 'Exogenesis', 'permalink': 'exogenesis'}}}], 'acquisition': None, 'acquisitions': [{'price_amount': 115000000, 'price_currency_code': 'USD', 'term_code': None, 'source_url': 'http://www.thealarmclock.com/mt/archives/2007/02/jdsu_pays_115m.html', 'source_description': 'JDSU Pays $115M for Optical Components PicoLight', 'acquired_year': 2007, 'acquired_month': 5, 'acquired_day': 29, 'company': {'name': 'Picolight', 'permalink': 'picolight'}}, {'price_amount': None, 'price_currency_code': 'USD', 'term_code': None, 'source_url': 'http://www.jdsu.com/go/quantasol/Pages/default.aspx', 'source_description': 'JDSU acquires QuantaSol technology', 'acquired_year': 2011, 'acquired_month': 7, 'acquired_day': 7, 'company': {'name': 'QuantaSol', 'permalink': 'quantasol'}}, {'price_amount': 85000000, 'price_currency_code': 'USD', 'term_code': 'cash', 'source_url': 'http://techcrunch.com/2013/03/08/jdsu-buys-arieso-for-85m-in-cash-to-boost-its-mobile-network-business/', 'source_description': 'JDSU Buys Arieso For $85M In Cash To Boost Its Mobile Network Business', 'acquired_year': 2013, 'acquired_month': 3, 'acquired_day': 8, 'company': {'name': 'Arieso', 'permalink': 'arieso'}}, {'price_amount': 200000000, 'price_currency_code': 'USD', 'term_code': 'cash', 'source_url': 'http://tech.mn/news/2013/12/11/network-instruments-acquired-by-jdsu-200-million/', 'source_description': ' Minnetonka-based Network Instruments acquired for $200m cash', 'acquired_year': 2013, 'acquired_month': 12, 'acquired_day': 11, 'company': {'name': 'Network Instruments', 'permalink': 'network-instruments'}}], 'offices': [{'description': 'Corporate Headquarters', 'address1': '430 N. McCarthy Blvd.', 'address2': '', 'zip_code': '95035', 'city': 'Milpitas', 'state_code': 'CA', 'country_code': 'USA', 'latitude': 37.4295794, 'longitude': -121.9229848}], 'milestones': [{'id': 6867, 'description': 'JDSU Completes Acquisition of Network Solutions Test Business from Agilent.', 'stoned_year': 2010, 'stoned_month': 5, 'stoned_day': 3, 'source_url': 'http://www.jdsu.com/news/news-releases/jdsu-completes-acquisition-of-network-solutions-test-business-from-agilent.html', 'source_text': '', 'source_description': 'JDSU Completes Acquisition of Network Solutions Test Business from Agilent', 'stoneable_type': 'Company', 'stoned_value': None, 'stoned_value_type': None, 'stoned_acquirer': None, 'stoneable': {'name': 'JDS Uniphase Corporation', 'permalink': 'jds-uniphase-corporation'}}], 'ipo': {'valuation_amount': None, 'valuation_currency_code': 'USD', 'pub_year': None, 'pub_month': None, 'pub_day': None, 'stock_symbol': 'NASDAQ:JDSU'}, 'video_embeds': [], 'screenshots': [{'available_sizes': [[[150, 83], 'assets/images/resized/0016/8263/168263v1-max-150x150.png'], [[250, 138], 'assets/images/resized/0016/8263/168263v1-max-250x250.png'], [[450, 250], 'assets/images/resized/0016/8263/168263v1-max-450x450.png']], 'attribution': None}], 'external_links': [], 'partners': []}\n"
     ]
    }
   ],
   "source": [
    "print(list(colec.find({'number_of_employees':{'$gte':5000}}).limit(20).sort('number_of_employees',1))[0])"
   ]
  },
  {
   "cell_type": "markdown",
   "metadata": {},
   "source": [
    "### 3. All the companies founded between 2000 and 2005, both years included. Retrieve only the `name` and `founded_year` fields."
   ]
  },
  {
   "cell_type": "code",
   "execution_count": 4,
   "metadata": {},
   "outputs": [
    {
     "name": "stdout",
     "output_type": "stream",
     "text": [
      "{'name': 'Wetpaint', 'founded_year': 2005}\n"
     ]
    }
   ],
   "source": [
    "print(list(colec.find({\"founded_year\":{\"$gte\":2000,\"$lte\":2005}}\n",
    "\n",
    ",{'_id':0, 'name':1, 'founded_year':1} ))[0])"
   ]
  },
  {
   "cell_type": "markdown",
   "metadata": {},
   "source": [
    "### 4. All the companies that had a Valuation Amount of more than 100.000.000 and have been founded before 2010. Retrieve only the `name` and `ipo` fields."
   ]
  },
  {
   "cell_type": "code",
   "execution_count": 5,
   "metadata": {},
   "outputs": [
    {
     "name": "stdout",
     "output_type": "stream",
     "text": [
      "{'name': 'Facebook', 'ipo': {'valuation_amount': 104000000000, 'valuation_currency_code': 'USD', 'pub_year': 2012, 'pub_month': 5, 'pub_day': 18, 'stock_symbol': 'NASDAQ:FB'}}\n"
     ]
    }
   ],
   "source": [
    "print(list(colec.find({'$and':[{'ipo.valuation_amount':{\"$gte\":2000}},{'founded_year':{\"$lte\":2010}}]},{'_id':0, 'name':1, 'ipo':1}))[0])"
   ]
  },
  {
   "cell_type": "markdown",
   "metadata": {},
   "source": [
    "### 5. All the companies that have less than 1000 employees and have been founded before 2005. Order them by the number of employees and limit the search to 10 companies."
   ]
  },
  {
   "cell_type": "code",
   "execution_count": 10,
   "metadata": {},
   "outputs": [
    {
     "name": "stdout",
     "output_type": "stream",
     "text": [
      "{'_id': ObjectId('52cdef7c4bab8bd675297dd2'), 'name': 'CastTV', 'permalink': 'casttv', 'crunchbase_url': 'http://www.crunchbase.com/company/casttv', 'homepage_url': 'http://www.casttv.com', 'blog_url': '', 'blog_feed_url': '', 'twitter_username': 'casttv', 'category_code': 'games_video', 'number_of_employees': 0, 'founded_year': 2006, 'founded_month': None, 'founded_day': None, 'deadpooled_year': None, 'deadpooled_month': None, 'deadpooled_day': None, 'deadpooled_url': None, 'tag_list': 'videosearch, techcrunch40', 'alias_list': '', 'email_address': 'info@casttv.com', 'phone_number': '', 'description': '', 'created_at': 'Tue Feb 05 22:28:15 UTC 2008', 'updated_at': 'Thu Mar 14 21:33:45 UTC 2013', 'overview': '<p>CastTV is working to build the web&#8217;s best video search engine. CastTV lets users find all their favorite online videos, from TV shows to movies to the latest celebrity, sports, news, and viral videos. The company&#8217;s proprietary technology addresses two main video search challenges: finding and cataloging videos from the web and delivering relevant video results to users. CastTV is funded by Draper Fisher Jurvetson and prominent angel investors. </p>\\n\\n<p>CastTV competitors include <a href=\"http://crunchbase.com/company/Blinkx\" title=\"Blinkx\">Blinkx</a>, Google Video, Yahoo Video and AOL Video (run on Truveo).</p>', 'image': {'available_sizes': [[[150, 60], 'assets/images/resized/0000/1237/1237v7-max-150x150.jpg'], [[250, 100], 'assets/images/resized/0000/1237/1237v7-max-250x250.jpg'], [[250, 100], 'assets/images/resized/0000/1237/1237v7-max-450x450.jpg']], 'attribution': None}, 'products': [{'name': 'video search', 'permalink': 'video-search'}], 'relationships': [{'is_past': None, 'title': 'Co-founder', 'person': {'first_name': 'Alex', 'last_name': 'Vikati', 'permalink': 'alex-vikati'}}, {'is_past': None, 'title': 'Co-founder', 'person': {'first_name': 'Edwin', 'last_name': 'Ong', 'permalink': 'edwin-ong'}}, {'is_past': False, 'title': 'Board of Directors', 'person': {'first_name': 'Warren', 'last_name': 'Packard', 'permalink': 'warren-packard'}}, {'is_past': True, 'title': 'Marketing Manager', 'person': {'first_name': 'Marie', 'last_name': 'DeOrio', 'permalink': 'marie-deorio'}}], 'competitions': [{'competitor': {'name': 'Dabble', 'permalink': 'dabble'}}, {'competitor': {'name': 'RAMP Holdings', 'permalink': 'ramp'}}, {'competitor': {'name': 'blinkx', 'permalink': 'blinkx'}}, {'competitor': {'name': 'Truveo', 'permalink': 'truveo'}}], 'providerships': [], 'total_money_raised': '$3.1M', 'funding_rounds': [{'id': 72, 'round_code': 'a', 'source_url': 'http://sev.prnewswire.com/computer-electronics/20070424/SFTU04824042007-1.html', 'source_description': '', 'raised_amount': 3100000, 'raised_currency_code': 'USD', 'funded_year': 2007, 'funded_month': 4, 'funded_day': 1, 'investments': [{'company': None, 'financial_org': {'name': 'Draper Fisher Jurvetson (DFJ)', 'permalink': 'draper-fisher-jurvetson'}, 'person': None}, {'company': None, 'financial_org': None, 'person': {'first_name': 'Ron', 'last_name': 'Conway', 'permalink': 'ron-conway'}}, {'company': None, 'financial_org': None, 'person': {'first_name': 'Marc', 'last_name': 'Andreessen', 'permalink': 'marc-andreessen'}}]}, {'id': 2302, 'round_code': 'angel', 'source_url': 'http://dealbook.blogs.nytimes.com/2007/04/25/web-video-search-service-casttv-gets-funding/', 'source_description': 'Web Video Search Service CastTV Gets Funding', 'raised_amount': None, 'raised_currency_code': None, 'funded_year': 2006, 'funded_month': 1, 'funded_day': 1, 'investments': [{'company': None, 'financial_org': None, 'person': {'first_name': 'Ron', 'last_name': 'Conway', 'permalink': 'ron-conway'}}]}], 'investments': [], 'acquisition': {'price_amount': None, 'price_currency_code': 'USD', 'term_code': None, 'source_url': 'http://techcrunch.com/2010/12/16/tribune-media-buys-video-search-engine-casttv/', 'source_description': 'Tribune Media Buys Video Search Engine CastTV', 'acquired_year': 2010, 'acquired_month': 12, 'acquired_day': 16, 'acquiring_company': {'name': 'Tribune Media', 'permalink': 'tribune-media'}}, 'acquisitions': [], 'offices': [{'description': None, 'address1': '374 Brannan St.', 'address2': None, 'zip_code': '94107', 'city': 'San Francisco', 'state_code': 'CA', 'country_code': 'USA', 'latitude': 37.780716, 'longitude': -122.393913}], 'milestones': [], 'ipo': None, 'video_embeds': [{'embed_code': '<embed src=\"http://blip.tv/play/AZfaEoXeMw\" type=\"application/x-shockwave-flash\" width=\"400\" height=\"318.75\" allowscriptaccess=\"always\" allowfullscreen=\"true\"></embed> \\r\\n\\r\\n', 'description': ''}], 'screenshots': [], 'external_links': [], 'partners': []}\n"
     ]
    }
   ],
   "source": [
    "print(list(colec.find({'$and':[{'founded_year':{\"$gt\":2005}},{'number_of_employees':{\"$lt\":1000}}]}).limit(10).sort('number_of_employees',1))[0])"
   ]
  },
  {
   "cell_type": "markdown",
   "metadata": {},
   "source": [
    "### 6. All the companies that don't include the `partners` field."
   ]
  },
  {
   "cell_type": "code",
   "execution_count": 16,
   "metadata": {},
   "outputs": [
    {
     "ename": "IndexError",
     "evalue": "list index out of range",
     "output_type": "error",
     "traceback": [
      "\u001b[1;31m---------------------------------------------------------------------------\u001b[0m",
      "\u001b[1;31mIndexError\u001b[0m                                Traceback (most recent call last)",
      "\u001b[1;32mc:\\Users\\Alberto\\git_yo\\dia14\\3.4-lab-mongo\\your_code\\main.ipynb Cell 15'\u001b[0m in \u001b[0;36m<cell line: 1>\u001b[1;34m()\u001b[0m\n\u001b[1;32m----> <a href='vscode-notebook-cell:/c%3A/Users/Alberto/git_yo/dia14/3.4-lab-mongo/your_code/main.ipynb#ch0000014?line=0'>1</a>\u001b[0m \u001b[39mprint\u001b[39m(\u001b[39mlist\u001b[39;49m(colec\u001b[39m.\u001b[39;49mfind({\u001b[39m'\u001b[39;49m\u001b[39mpartners\u001b[39;49m\u001b[39m'\u001b[39;49m:{\u001b[39m'\u001b[39;49m\u001b[39m$exists\u001b[39;49m\u001b[39m'\u001b[39;49m:\u001b[39mFalse\u001b[39;49;00m}}))[\u001b[39m0\u001b[39;49m])\n",
      "\u001b[1;31mIndexError\u001b[0m: list index out of range"
     ]
    }
   ],
   "source": [
    "print(list(colec.find({'partners':{'$exists':False}}))[0])"
   ]
  },
  {
   "cell_type": "markdown",
   "metadata": {},
   "source": [
    "### 7. All the companies that have a null type of value on the `category_code` field."
   ]
  },
  {
   "cell_type": "code",
   "execution_count": 17,
   "metadata": {},
   "outputs": [
    {
     "name": "stdout",
     "output_type": "stream",
     "text": [
      "{'_id': ObjectId('52cdef7c4bab8bd6752980f6'), 'name': 'Collective', 'permalink': 'collective', 'crunchbase_url': 'http://www.crunchbase.com/company/collective', 'homepage_url': None, 'blog_url': None, 'blog_feed_url': None, 'twitter_username': None, 'category_code': None, 'number_of_employees': None, 'founded_year': None, 'founded_month': None, 'founded_day': None, 'deadpooled_year': None, 'deadpooled_month': None, 'deadpooled_day': None, 'deadpooled_url': None, 'tag_list': None, 'alias_list': None, 'email_address': None, 'phone_number': None, 'description': None, 'created_at': 'Thu Sep 26 13:15:02 UTC 2013', 'updated_at': 'Thu Sep 26 13:15:02 UTC 2013', 'overview': None, 'image': None, 'products': [], 'relationships': [], 'competitions': [], 'providerships': [], 'total_money_raised': '$0', 'funding_rounds': [], 'investments': [], 'acquisition': None, 'acquisitions': [], 'offices': [], 'milestones': [], 'ipo': None, 'video_embeds': [], 'screenshots': [], 'external_links': [], 'partners': []}\n"
     ]
    }
   ],
   "source": [
    "print(list(colec.find({'category_code':None}))[0])"
   ]
  },
  {
   "cell_type": "markdown",
   "metadata": {},
   "source": [
    "### 8. All the companies that have at least 100 employees but less than 1000. Retrieve only the `name` and `number of employees` fields."
   ]
  },
  {
   "cell_type": "code",
   "execution_count": 18,
   "metadata": {},
   "outputs": [
    {
     "name": "stdout",
     "output_type": "stream",
     "text": [
      "{'name': 'Zoho', 'number_of_employees': 1600}\n"
     ]
    }
   ],
   "source": [
    "print(list(colec.find({'$and':[{'number_of_employees':{\"$gte\":100}},{'number_of_employees':{\"$lte\":1000}}]},{'_id':0, 'name':1, 'number_of_employees':1}))[0])"
   ]
  },
  {
   "cell_type": "markdown",
   "metadata": {},
   "source": [
    "### 9. Order all the companies by their IPO price in a descending order."
   ]
  },
  {
   "cell_type": "code",
   "execution_count": 20,
   "metadata": {},
   "outputs": [
    {
     "name": "stdout",
     "output_type": "stream",
     "text": [
      "{'_id': ObjectId('52cdef7c4bab8bd675297d8a'), 'name': 'Wetpaint', 'permalink': 'abc2', 'crunchbase_url': 'http://www.crunchbase.com/company/wetpaint', 'homepage_url': 'http://wetpaint-inc.com', 'blog_url': 'http://digitalquarters.net/', 'blog_feed_url': 'http://digitalquarters.net/feed/', 'twitter_username': 'BachelrWetpaint', 'category_code': 'web', 'number_of_employees': 47, 'founded_year': 2005, 'founded_month': 10, 'founded_day': 17, 'deadpooled_year': 1, 'tag_list': 'wiki, seattle, elowitz, media-industry, media-platform, social-distribution-system', 'alias_list': '', 'email_address': 'info@wetpaint.com', 'phone_number': '206.859.6300', 'description': 'Technology Platform Company', 'created_at': datetime.datetime(2007, 5, 25, 6, 51, 27), 'updated_at': 'Sun Dec 08 07:15:44 UTC 2013', 'overview': '<p>Wetpaint is a technology platform company that uses its proprietary state-of-the-art technology and expertise in social media to build and monetize audiences for digital publishers. Wetpaint’s own online property, Wetpaint Entertainment, an entertainment news site that attracts more than 12 million unique visitors monthly and has over 2 million Facebook fans, is a proof point to the company’s success in building and engaging audiences. Media companies can license Wetpaint’s platform which includes a dynamic playbook tailored to their individual needs and comprehensive training. Founded by Internet pioneer Ben Elowitz, and with offices in New York and Seattle, Wetpaint is backed by Accel Partners, the investors behind Facebook.</p>', 'image': {'available_sizes': [[[150, 75], 'assets/images/resized/0000/3604/3604v14-max-150x150.jpg'], [[250, 125], 'assets/images/resized/0000/3604/3604v14-max-250x250.jpg'], [[450, 225], 'assets/images/resized/0000/3604/3604v14-max-450x450.jpg']]}, 'products': [{'name': 'Wikison Wetpaint', 'permalink': 'wetpaint-wiki'}, {'name': 'Wetpaint Social Distribution System', 'permalink': 'wetpaint-social-distribution-system'}], 'relationships': [{'is_past': False, 'title': 'Co-Founder and VP, Social and Audience Development', 'person': {'first_name': 'Michael', 'last_name': 'Howell', 'permalink': 'michael-howell'}}, {'is_past': False, 'title': 'Co-Founder/CEO/Board of Directors', 'person': {'first_name': 'Ben', 'last_name': 'Elowitz', 'permalink': 'ben-elowitz'}}, {'is_past': False, 'title': 'COO/Board of Directors', 'person': {'first_name': 'Rob', 'last_name': 'Grady', 'permalink': 'rob-grady'}}, {'is_past': False, 'title': 'SVP, Strategy and Business Development', 'person': {'first_name': 'Chris', 'last_name': 'Kollas', 'permalink': 'chris-kollas'}}, {'is_past': False, 'title': 'Board', 'person': {'first_name': 'Theresia', 'last_name': 'Ranzetta', 'permalink': 'theresia-ranzetta'}}, {'is_past': False, 'title': 'Board Member', 'person': {'first_name': 'Gus', 'last_name': 'Tai', 'permalink': 'gus-tai'}}, {'is_past': False, 'title': 'Board', 'person': {'first_name': 'Len', 'last_name': 'Jordan', 'permalink': 'len-jordan'}}, {'is_past': False, 'title': 'Head of Technology and Product', 'person': {'first_name': 'Alex', 'last_name': 'Weinstein', 'permalink': 'alex-weinstein'}}, {'is_past': True, 'title': 'CFO', 'person': {'first_name': 'Bert', 'last_name': 'Hogue', 'permalink': 'bert-hogue'}}, {'is_past': True, 'title': 'CFO/ CRO', 'person': {'first_name': 'Brian', 'last_name': 'Watkins', 'permalink': 'brian-watkins'}}, {'is_past': True, 'title': 'Senior Vice President, Marketing', 'person': {'first_name': 'Rob', 'last_name': 'Grady', 'permalink': 'rob-grady'}}, {'is_past': True, 'title': 'VP, Technology and Product', 'person': {'first_name': 'Werner', 'last_name': 'Koepf', 'permalink': 'werner-koepf'}}, {'is_past': True, 'title': 'VP Marketing', 'person': {'first_name': 'Kevin', 'last_name': 'Flaherty', 'permalink': 'kevin-flaherty'}}, {'is_past': True, 'title': 'VP User Experience', 'person': {'first_name': 'Alex', 'last_name': 'Berg', 'permalink': 'alex-berg'}}, {'is_past': True, 'title': 'VP Engineering', 'person': {'first_name': 'Steve', 'last_name': 'McQuade', 'permalink': 'steve-mcquade'}}, {'is_past': True, 'title': 'Executive Editor', 'person': {'first_name': 'Susan', 'last_name': 'Mulcahy', 'permalink': 'susan-mulcahy'}}, {'is_past': True, 'title': 'VP Business Development', 'person': {'first_name': 'Chris', 'last_name': 'Kollas', 'permalink': 'chris-kollas'}}], 'competitions': [{'competitor': {'name': 'Wikia', 'permalink': 'wikia'}}, {'competitor': {'name': 'JotSpot', 'permalink': 'jotspot'}}, {'competitor': {'name': 'Socialtext', 'permalink': 'socialtext'}}, {'competitor': {'name': 'Ning by Glam Media', 'permalink': 'ning'}}, {'competitor': {'name': 'Soceeo', 'permalink': 'soceeo'}}, {'competitor': {'name': 'Yola', 'permalink': 'yola'}}, {'competitor': {'name': 'SocialGO', 'permalink': 'socialgo'}}, {'competitor': {'name': 'IslamNor', 'permalink': 'islamnor'}}], 'providerships': [], 'total_money_raised': '$39.8M', 'funding_rounds': [{'id': 888, 'round_code': 'a', 'source_url': 'http://seattlepi.nwsource.com/business/246734_wiki02.html', 'source_description': '', 'raised_amount': 5250000, 'raised_currency_code': 'USD', 'funded_year': 2005, 'funded_month': 10, 'funded_day': 1, 'investments': [{'company': None, 'financial_org': {'name': 'Frazier Technology Ventures', 'permalink': 'frazier-technology-ventures'}, 'person': None}, {'company': None, 'financial_org': {'name': 'Trinity Ventures', 'permalink': 'trinity-ventures'}, 'person': None}]}, {'id': 889, 'round_code': 'b', 'source_url': 'http://pulse2.com/2007/01/09/wiki-builder-website-wetpaint-welcomes-95m-funding/', 'source_description': '', 'raised_amount': 9500000, 'raised_currency_code': 'USD', 'funded_year': 2007, 'funded_month': 1, 'funded_day': 1, 'investments': [{'company': None, 'financial_org': {'name': 'Accel Partners', 'permalink': 'accel-partners'}, 'person': None}, {'company': None, 'financial_org': {'name': 'Frazier Technology Ventures', 'permalink': 'frazier-technology-ventures'}, 'person': None}, {'company': None, 'financial_org': {'name': 'Trinity Ventures', 'permalink': 'trinity-ventures'}, 'person': None}]}, {'id': 2312, 'round_code': 'c', 'source_url': 'http://www.accel.com/news/news_one_up.php?news_id=185', 'source_description': 'Accel', 'raised_amount': 25000000, 'raised_currency_code': 'USD', 'funded_year': 2008, 'funded_month': 5, 'funded_day': 19, 'investments': [{'company': None, 'financial_org': {'name': 'DAG Ventures', 'permalink': 'dag-ventures'}, 'person': None}, {'company': None, 'financial_org': {'name': 'Accel Partners', 'permalink': 'accel-partners'}, 'person': None}, {'company': None, 'financial_org': {'name': 'Trinity Ventures', 'permalink': 'trinity-ventures'}, 'person': None}, {'company': None, 'financial_org': {'name': 'Frazier Technology Ventures', 'permalink': 'frazier-technology-ventures'}, 'person': None}]}], 'investments': [], 'acquisition': {'price_amount': 30000000, 'price_currency_code': 'USD', 'term_code': 'cash_and_stock', 'source_url': 'http://allthingsd.com/20131216/viggle-tries-to-bulk-up-its-social-tv-business-by-buying-wetpaint/?mod=atdtweet', 'source_description': ' Viggle Tries to Bulk Up Its Social TV Business by Buying Wetpaint', 'acquired_year': 2013, 'acquired_month': 12, 'acquired_day': 16, 'acquiring_company': {'name': 'Viggle', 'permalink': 'viggle'}}, 'acquisitions': [], 'offices': [{'description': '', 'address1': '710 - 2nd Avenue', 'address2': 'Suite 1100', 'zip_code': '98104', 'city': 'Seattle', 'state_code': 'WA', 'country_code': 'USA', 'latitude': 47.603122, 'longitude': -122.333253}, {'description': '', 'address1': '270 Lafayette Street', 'address2': 'Suite 505', 'zip_code': '10012', 'city': 'New York', 'state_code': 'NY', 'country_code': 'USA', 'latitude': 40.7237306, 'longitude': -73.9964312}], 'milestones': [{'id': 5869, 'description': \"Wetpaint named in Lead411's Hottest Seattle Companies list\", 'stoned_year': 2010, 'stoned_month': 6, 'stoned_day': 8, 'source_url': 'http://www.lead411.com/seattle-companies.html', 'source_text': None, 'source_description': 'LEAD411 LAUNCHES \"HOTTEST SEATTLE COMPANIES\" AWARDS', 'stoneable_type': 'Company', 'stoned_value': None, 'stoned_value_type': None, 'stoned_acquirer': None, 'stoneable': {'name': 'Wetpaint', 'permalink': 'wetpaint'}}, {'id': 8702, 'description': 'Site-Builder Wetpaint Makes One For Itself, Using the Demand Media Playbook', 'stoned_year': 2010, 'stoned_month': 9, 'stoned_day': 6, 'source_url': 'http://mediamemo.allthingsd.com/20100906/site-builder-wetpaint-makes-one-for-itself-using-the-demand-media-playbook/', 'source_text': None, 'source_description': 'All Things D', 'stoneable_type': 'Company', 'stoned_value': None, 'stoned_value_type': None, 'stoned_acquirer': None, 'stoneable': {'name': 'Wetpaint', 'permalink': 'wetpaint'}}], 'video_embeds': [], 'screenshots': [{'available_sizes': [[[150, 86], 'assets/images/resized/0016/0929/160929v2-max-150x150.png'], [[250, 143], 'assets/images/resized/0016/0929/160929v2-max-250x250.png'], [[450, 258], 'assets/images/resized/0016/0929/160929v2-max-450x450.png']], 'attribution': None}], 'external_links': [{'external_url': 'http://www.geekwire.com/2011/rewind-ben-elowitz-wetpaint-ceo-building-type-media-company', 'title': 'GeekWire interview: Rewind - Ben Elowitz, Wetpaint CEO, on building a new type of media company'}, {'external_url': 'http://techcrunch.com/2012/06/17/search-and-social-how-two-will-soon-become-one/', 'title': 'Guest post by CEO Ben Elowitz in TechCrunch'}, {'external_url': 'http://allthingsd.com/20120516/what-to-expect-when-facebook-is-expecting-five-predictions-for-facebooks-first-public-year/', 'title': 'Guest post by CEO Ben Elowitz in AllThingsD'}, {'external_url': 'http://adage.com/article/digitalnext/facebook-biggest-player-advertising-s-540-billion-world/235708/', 'title': 'Guest post by CEO Ben Elowitz in AdAge'}, {'external_url': 'http://www.businessinsider.com/facebook-captures-14-percent-of-our-online-attention-but-only-4-percent-of-ad-spending-online-2012-6', 'title': 'Guest post by CEO Ben Elowitz in Business Insider'}, {'external_url': 'http://allfacebook.com/wetpaint-media-data_b75963', 'title': 'AllFacebook coverage of Wetpaint'}, {'external_url': 'http://adage.com/article/digital/celeb-site-wetpaint-shows-media-profit-facebook/237828/', 'title': 'Profile of Wetpaint in Ad Age'}, {'external_url': 'http://allthingsd.com/20121018/how-to-boost-your-facebook-traffic-tips-and-tricks-from-wetpaint/', 'title': 'Interview with Wetpaint CEO Ben Elowitz in All Things D'}, {'external_url': 'http://www.xconomy.com/seattle/2012/10/19/wetpaint-starts-licensing-its-facebook-based-media-distribution-tech/', 'title': 'Profile of Wetpaint in Xconomy'}], 'partners': []}\n"
     ]
    }
   ],
   "source": [
    "print(list(colec.find().sort('ipo.price',-1))[0])"
   ]
  },
  {
   "cell_type": "markdown",
   "metadata": {},
   "source": [
    "### 10. Retrieve the 10 companies with more employees, order by the `number of employees`"
   ]
  },
  {
   "cell_type": "code",
   "execution_count": 21,
   "metadata": {},
   "outputs": [
    {
     "name": "stdout",
     "output_type": "stream",
     "text": [
      "{'_id': ObjectId('52cdef7c4bab8bd675297d92'), 'name': 'Flektor', 'permalink': 'flektor', 'crunchbase_url': 'http://www.crunchbase.com/company/flektor', 'homepage_url': 'http://www.flektor.com', 'blog_url': 'http://www.flektor-blog.com', 'blog_feed_url': 'http://www.flektor-blog.com/video_editing_software/index.rdf', 'twitter_username': None, 'category_code': 'games_video', 'number_of_employees': None, 'founded_year': None, 'founded_month': None, 'founded_day': None, 'deadpooled_year': None, 'deadpooled_month': None, 'deadpooled_day': None, 'deadpooled_url': None, 'tag_list': 'flektor, photo, video', 'alias_list': None, 'email_address': None, 'phone_number': None, 'description': None, 'created_at': 'Thu May 31 21:11:51 UTC 2007', 'updated_at': 'Sat Nov 05 08:42:23 UTC 2011', 'overview': '<p>Flektor is a rich-media mash-up platform that enables consumers to create, remix and share photos and videos on the internet without the need for advanced video-editing skills or software.</p>\\n\\n<p>Fox Interactive Media, a division of News Corporation, announced that it had completed the purchase of Flektor on May 30, 2007.  The estimated puchase price is $15-20 million.</p>', 'image': {'available_sizes': [[[150, 68], 'assets/images/resized/0000/2398/2398v4-max-150x150.png'], [[186, 85], 'assets/images/resized/0000/2398/2398v4-max-250x250.png'], [[186, 85], 'assets/images/resized/0000/2398/2398v4-max-450x450.png']], 'attribution': None}, 'products': [{'name': 'Flektor', 'permalink': 'flektor'}], 'relationships': [{'is_past': True, 'title': 'COO, Co-Founder', 'person': {'first_name': 'Jason', 'last_name': 'Kay', 'permalink': 'jason-kay'}}, {'is_past': True, 'title': 'Co-founder and CEO', 'person': {'first_name': 'Jason', 'last_name': 'Rubin', 'permalink': 'jason-rubin'}}, {'is_past': True, 'title': 'Co-founder and CTO', 'person': {'first_name': 'Andy', 'last_name': 'Gavin', 'permalink': 'andy-gavin'}}, {'is_past': True, 'title': 'VP of Technology', 'person': {'first_name': 'Scott', 'last_name': 'Shumaker', 'permalink': 'scott-shumaker'}}, {'is_past': True, 'title': 'VP of Product', 'person': {'first_name': 'Ryan', 'last_name': 'Evans', 'permalink': 'ryan-evans'}}, {'is_past': True, 'title': 'Technical Art Director | Flash Developer', 'person': {'first_name': 'Edvard', 'last_name': 'Toth', 'permalink': 'edvard-toth'}}], 'competitions': [{'competitor': {'name': 'RockYou', 'permalink': 'rockyou'}}, {'competitor': {'name': 'Slide', 'permalink': 'slide'}}, {'competitor': {'name': 'Mixercast', 'permalink': 'mixercast'}}, {'competitor': {'name': 'Toufee', 'permalink': 'toufee'}}, {'competitor': {'name': 'Capzles', 'permalink': 'capzles'}}], 'providerships': [], 'total_money_raised': '$0', 'funding_rounds': [], 'investments': [], 'acquisition': {'price_amount': 20000000, 'price_currency_code': 'USD', 'term_code': None, 'source_url': 'http://venturebeat.com/2007/05/30/fox-interactive-confirms-purchase-of-photobucket-and-flektor/', 'source_description': 'Fox Interactive confirms purchase of Photobucket and Flektor', 'acquired_year': 2007, 'acquired_month': 5, 'acquired_day': 30, 'acquiring_company': {'name': 'Fox Interactive Media', 'permalink': 'fox-interactive-media'}}, 'acquisitions': [], 'offices': [{'description': None, 'address1': '8536 National Blvd, Suite A', 'address2': None, 'zip_code': '90232', 'city': 'Culver City', 'state_code': 'CA', 'country_code': 'USA', 'latitude': 34.025958, 'longitude': -118.379768}], 'milestones': [], 'ipo': None, 'video_embeds': [], 'screenshots': [], 'external_links': [], 'partners': []}\n"
     ]
    }
   ],
   "source": [
    "print(list(colec.find().limit(10).sort('number_of_employees',1))[0])"
   ]
  },
  {
   "cell_type": "markdown",
   "metadata": {},
   "source": [
    "### 11. All the companies founded on the second semester of the year. Limit your search to 1000 companies."
   ]
  },
  {
   "cell_type": "code",
   "execution_count": 23,
   "metadata": {},
   "outputs": [
    {
     "name": "stdout",
     "output_type": "stream",
     "text": [
      "{'_id': ObjectId('52cdef7c4bab8bd675297d8a'), 'name': 'Wetpaint', 'permalink': 'abc2', 'crunchbase_url': 'http://www.crunchbase.com/company/wetpaint', 'homepage_url': 'http://wetpaint-inc.com', 'blog_url': 'http://digitalquarters.net/', 'blog_feed_url': 'http://digitalquarters.net/feed/', 'twitter_username': 'BachelrWetpaint', 'category_code': 'web', 'number_of_employees': 47, 'founded_year': 2005, 'founded_month': 10, 'founded_day': 17, 'deadpooled_year': 1, 'tag_list': 'wiki, seattle, elowitz, media-industry, media-platform, social-distribution-system', 'alias_list': '', 'email_address': 'info@wetpaint.com', 'phone_number': '206.859.6300', 'description': 'Technology Platform Company', 'created_at': datetime.datetime(2007, 5, 25, 6, 51, 27), 'updated_at': 'Sun Dec 08 07:15:44 UTC 2013', 'overview': '<p>Wetpaint is a technology platform company that uses its proprietary state-of-the-art technology and expertise in social media to build and monetize audiences for digital publishers. Wetpaint’s own online property, Wetpaint Entertainment, an entertainment news site that attracts more than 12 million unique visitors monthly and has over 2 million Facebook fans, is a proof point to the company’s success in building and engaging audiences. Media companies can license Wetpaint’s platform which includes a dynamic playbook tailored to their individual needs and comprehensive training. Founded by Internet pioneer Ben Elowitz, and with offices in New York and Seattle, Wetpaint is backed by Accel Partners, the investors behind Facebook.</p>', 'image': {'available_sizes': [[[150, 75], 'assets/images/resized/0000/3604/3604v14-max-150x150.jpg'], [[250, 125], 'assets/images/resized/0000/3604/3604v14-max-250x250.jpg'], [[450, 225], 'assets/images/resized/0000/3604/3604v14-max-450x450.jpg']]}, 'products': [{'name': 'Wikison Wetpaint', 'permalink': 'wetpaint-wiki'}, {'name': 'Wetpaint Social Distribution System', 'permalink': 'wetpaint-social-distribution-system'}], 'relationships': [{'is_past': False, 'title': 'Co-Founder and VP, Social and Audience Development', 'person': {'first_name': 'Michael', 'last_name': 'Howell', 'permalink': 'michael-howell'}}, {'is_past': False, 'title': 'Co-Founder/CEO/Board of Directors', 'person': {'first_name': 'Ben', 'last_name': 'Elowitz', 'permalink': 'ben-elowitz'}}, {'is_past': False, 'title': 'COO/Board of Directors', 'person': {'first_name': 'Rob', 'last_name': 'Grady', 'permalink': 'rob-grady'}}, {'is_past': False, 'title': 'SVP, Strategy and Business Development', 'person': {'first_name': 'Chris', 'last_name': 'Kollas', 'permalink': 'chris-kollas'}}, {'is_past': False, 'title': 'Board', 'person': {'first_name': 'Theresia', 'last_name': 'Ranzetta', 'permalink': 'theresia-ranzetta'}}, {'is_past': False, 'title': 'Board Member', 'person': {'first_name': 'Gus', 'last_name': 'Tai', 'permalink': 'gus-tai'}}, {'is_past': False, 'title': 'Board', 'person': {'first_name': 'Len', 'last_name': 'Jordan', 'permalink': 'len-jordan'}}, {'is_past': False, 'title': 'Head of Technology and Product', 'person': {'first_name': 'Alex', 'last_name': 'Weinstein', 'permalink': 'alex-weinstein'}}, {'is_past': True, 'title': 'CFO', 'person': {'first_name': 'Bert', 'last_name': 'Hogue', 'permalink': 'bert-hogue'}}, {'is_past': True, 'title': 'CFO/ CRO', 'person': {'first_name': 'Brian', 'last_name': 'Watkins', 'permalink': 'brian-watkins'}}, {'is_past': True, 'title': 'Senior Vice President, Marketing', 'person': {'first_name': 'Rob', 'last_name': 'Grady', 'permalink': 'rob-grady'}}, {'is_past': True, 'title': 'VP, Technology and Product', 'person': {'first_name': 'Werner', 'last_name': 'Koepf', 'permalink': 'werner-koepf'}}, {'is_past': True, 'title': 'VP Marketing', 'person': {'first_name': 'Kevin', 'last_name': 'Flaherty', 'permalink': 'kevin-flaherty'}}, {'is_past': True, 'title': 'VP User Experience', 'person': {'first_name': 'Alex', 'last_name': 'Berg', 'permalink': 'alex-berg'}}, {'is_past': True, 'title': 'VP Engineering', 'person': {'first_name': 'Steve', 'last_name': 'McQuade', 'permalink': 'steve-mcquade'}}, {'is_past': True, 'title': 'Executive Editor', 'person': {'first_name': 'Susan', 'last_name': 'Mulcahy', 'permalink': 'susan-mulcahy'}}, {'is_past': True, 'title': 'VP Business Development', 'person': {'first_name': 'Chris', 'last_name': 'Kollas', 'permalink': 'chris-kollas'}}], 'competitions': [{'competitor': {'name': 'Wikia', 'permalink': 'wikia'}}, {'competitor': {'name': 'JotSpot', 'permalink': 'jotspot'}}, {'competitor': {'name': 'Socialtext', 'permalink': 'socialtext'}}, {'competitor': {'name': 'Ning by Glam Media', 'permalink': 'ning'}}, {'competitor': {'name': 'Soceeo', 'permalink': 'soceeo'}}, {'competitor': {'name': 'Yola', 'permalink': 'yola'}}, {'competitor': {'name': 'SocialGO', 'permalink': 'socialgo'}}, {'competitor': {'name': 'IslamNor', 'permalink': 'islamnor'}}], 'providerships': [], 'total_money_raised': '$39.8M', 'funding_rounds': [{'id': 888, 'round_code': 'a', 'source_url': 'http://seattlepi.nwsource.com/business/246734_wiki02.html', 'source_description': '', 'raised_amount': 5250000, 'raised_currency_code': 'USD', 'funded_year': 2005, 'funded_month': 10, 'funded_day': 1, 'investments': [{'company': None, 'financial_org': {'name': 'Frazier Technology Ventures', 'permalink': 'frazier-technology-ventures'}, 'person': None}, {'company': None, 'financial_org': {'name': 'Trinity Ventures', 'permalink': 'trinity-ventures'}, 'person': None}]}, {'id': 889, 'round_code': 'b', 'source_url': 'http://pulse2.com/2007/01/09/wiki-builder-website-wetpaint-welcomes-95m-funding/', 'source_description': '', 'raised_amount': 9500000, 'raised_currency_code': 'USD', 'funded_year': 2007, 'funded_month': 1, 'funded_day': 1, 'investments': [{'company': None, 'financial_org': {'name': 'Accel Partners', 'permalink': 'accel-partners'}, 'person': None}, {'company': None, 'financial_org': {'name': 'Frazier Technology Ventures', 'permalink': 'frazier-technology-ventures'}, 'person': None}, {'company': None, 'financial_org': {'name': 'Trinity Ventures', 'permalink': 'trinity-ventures'}, 'person': None}]}, {'id': 2312, 'round_code': 'c', 'source_url': 'http://www.accel.com/news/news_one_up.php?news_id=185', 'source_description': 'Accel', 'raised_amount': 25000000, 'raised_currency_code': 'USD', 'funded_year': 2008, 'funded_month': 5, 'funded_day': 19, 'investments': [{'company': None, 'financial_org': {'name': 'DAG Ventures', 'permalink': 'dag-ventures'}, 'person': None}, {'company': None, 'financial_org': {'name': 'Accel Partners', 'permalink': 'accel-partners'}, 'person': None}, {'company': None, 'financial_org': {'name': 'Trinity Ventures', 'permalink': 'trinity-ventures'}, 'person': None}, {'company': None, 'financial_org': {'name': 'Frazier Technology Ventures', 'permalink': 'frazier-technology-ventures'}, 'person': None}]}], 'investments': [], 'acquisition': {'price_amount': 30000000, 'price_currency_code': 'USD', 'term_code': 'cash_and_stock', 'source_url': 'http://allthingsd.com/20131216/viggle-tries-to-bulk-up-its-social-tv-business-by-buying-wetpaint/?mod=atdtweet', 'source_description': ' Viggle Tries to Bulk Up Its Social TV Business by Buying Wetpaint', 'acquired_year': 2013, 'acquired_month': 12, 'acquired_day': 16, 'acquiring_company': {'name': 'Viggle', 'permalink': 'viggle'}}, 'acquisitions': [], 'offices': [{'description': '', 'address1': '710 - 2nd Avenue', 'address2': 'Suite 1100', 'zip_code': '98104', 'city': 'Seattle', 'state_code': 'WA', 'country_code': 'USA', 'latitude': 47.603122, 'longitude': -122.333253}, {'description': '', 'address1': '270 Lafayette Street', 'address2': 'Suite 505', 'zip_code': '10012', 'city': 'New York', 'state_code': 'NY', 'country_code': 'USA', 'latitude': 40.7237306, 'longitude': -73.9964312}], 'milestones': [{'id': 5869, 'description': \"Wetpaint named in Lead411's Hottest Seattle Companies list\", 'stoned_year': 2010, 'stoned_month': 6, 'stoned_day': 8, 'source_url': 'http://www.lead411.com/seattle-companies.html', 'source_text': None, 'source_description': 'LEAD411 LAUNCHES \"HOTTEST SEATTLE COMPANIES\" AWARDS', 'stoneable_type': 'Company', 'stoned_value': None, 'stoned_value_type': None, 'stoned_acquirer': None, 'stoneable': {'name': 'Wetpaint', 'permalink': 'wetpaint'}}, {'id': 8702, 'description': 'Site-Builder Wetpaint Makes One For Itself, Using the Demand Media Playbook', 'stoned_year': 2010, 'stoned_month': 9, 'stoned_day': 6, 'source_url': 'http://mediamemo.allthingsd.com/20100906/site-builder-wetpaint-makes-one-for-itself-using-the-demand-media-playbook/', 'source_text': None, 'source_description': 'All Things D', 'stoneable_type': 'Company', 'stoned_value': None, 'stoned_value_type': None, 'stoned_acquirer': None, 'stoneable': {'name': 'Wetpaint', 'permalink': 'wetpaint'}}], 'video_embeds': [], 'screenshots': [{'available_sizes': [[[150, 86], 'assets/images/resized/0016/0929/160929v2-max-150x150.png'], [[250, 143], 'assets/images/resized/0016/0929/160929v2-max-250x250.png'], [[450, 258], 'assets/images/resized/0016/0929/160929v2-max-450x450.png']], 'attribution': None}], 'external_links': [{'external_url': 'http://www.geekwire.com/2011/rewind-ben-elowitz-wetpaint-ceo-building-type-media-company', 'title': 'GeekWire interview: Rewind - Ben Elowitz, Wetpaint CEO, on building a new type of media company'}, {'external_url': 'http://techcrunch.com/2012/06/17/search-and-social-how-two-will-soon-become-one/', 'title': 'Guest post by CEO Ben Elowitz in TechCrunch'}, {'external_url': 'http://allthingsd.com/20120516/what-to-expect-when-facebook-is-expecting-five-predictions-for-facebooks-first-public-year/', 'title': 'Guest post by CEO Ben Elowitz in AllThingsD'}, {'external_url': 'http://adage.com/article/digitalnext/facebook-biggest-player-advertising-s-540-billion-world/235708/', 'title': 'Guest post by CEO Ben Elowitz in AdAge'}, {'external_url': 'http://www.businessinsider.com/facebook-captures-14-percent-of-our-online-attention-but-only-4-percent-of-ad-spending-online-2012-6', 'title': 'Guest post by CEO Ben Elowitz in Business Insider'}, {'external_url': 'http://allfacebook.com/wetpaint-media-data_b75963', 'title': 'AllFacebook coverage of Wetpaint'}, {'external_url': 'http://adage.com/article/digital/celeb-site-wetpaint-shows-media-profit-facebook/237828/', 'title': 'Profile of Wetpaint in Ad Age'}, {'external_url': 'http://allthingsd.com/20121018/how-to-boost-your-facebook-traffic-tips-and-tricks-from-wetpaint/', 'title': 'Interview with Wetpaint CEO Ben Elowitz in All Things D'}, {'external_url': 'http://www.xconomy.com/seattle/2012/10/19/wetpaint-starts-licensing-its-facebook-based-media-distribution-tech/', 'title': 'Profile of Wetpaint in Xconomy'}], 'partners': []}\n"
     ]
    }
   ],
   "source": [
    "print(list(colec.find({'founded_month':{'$gt':6}}).limit(1000))[0])"
   ]
  },
  {
   "cell_type": "markdown",
   "metadata": {},
   "source": [
    "### 12. All the companies founded before 2000 that have an acquisition amount of more than 10.000.00"
   ]
  },
  {
   "cell_type": "code",
   "execution_count": 28,
   "metadata": {},
   "outputs": [
    {
     "name": "stdout",
     "output_type": "stream",
     "text": [
      "{'name': 'Wetpaint', 'acquisition': {'price_amount': 30000000}}\n"
     ]
    }
   ],
   "source": [
    "print(list(colec.find({'acquisition.price_amount':{'$gt':1e6}}, {'_id':0, 'name':1,'acquisition.price_amount':1}))[0])"
   ]
  },
  {
   "cell_type": "markdown",
   "metadata": {},
   "source": [
    "### 13. All the companies that have been acquired after 2010, order by the acquisition amount, and retrieve only their `name` and `acquisition` field."
   ]
  },
  {
   "cell_type": "code",
   "execution_count": 31,
   "metadata": {},
   "outputs": [
    {
     "name": "stdout",
     "output_type": "stream",
     "text": [
      "{'name': 'Geni', 'acquisition': {'price_amount': None, 'price_currency_code': 'USD', 'term_code': None, 'source_url': 'http://techcrunch.com/2012/11/28/all-in-the-family-myheritage-buys-former-yammer-stablemate-geni-com-raises-25m/', 'source_description': 'MyHeritage acquires Geni and $25M to build family tree of the whole world', 'acquired_year': 2012, 'acquired_month': 11, 'acquired_day': 28, 'acquiring_company': {'name': 'MyHeritage', 'permalink': 'myheritage'}}}\n"
     ]
    }
   ],
   "source": [
    "print(list(colec.find({'acquisition.acquired_year':{'$gt':2010}}, {'_id':0, 'name':1,'acquisition':1}).sort('acquisition.price_amount',1))[0])"
   ]
  },
  {
   "cell_type": "markdown",
   "metadata": {},
   "source": [
    "### 14. Order the companies by their `founded year`, retrieving only their `name` and `founded year`."
   ]
  },
  {
   "cell_type": "code",
   "execution_count": 34,
   "metadata": {},
   "outputs": [
    {
     "name": "stdout",
     "output_type": "stream",
     "text": [
      "{'name': 'Fixya', 'founded_year': 2013}\n"
     ]
    }
   ],
   "source": [
    "print(list(colec.find(projection = {'_id':0, 'name':1,'founded_year':1}).sort('founded_year',-1))[0])"
   ]
  },
  {
   "cell_type": "markdown",
   "metadata": {},
   "source": [
    "### 15. All the companies that have been founded on the first seven days of the month, including the seventh. Sort them by their `acquisition price` in a descending order. Limit the search to 10 documents."
   ]
  },
  {
   "cell_type": "code",
   "execution_count": 35,
   "metadata": {},
   "outputs": [
    {
     "name": "stdout",
     "output_type": "stream",
     "text": [
      "{'name': 'National Semiconductor', 'acquisition': {'price_amount': 6500000000}}\n"
     ]
    }
   ],
   "source": [
    "print(list(colec.find({'acquisition.acquired_day':{'$lte':7}}, {'_id':0, 'name':1,'acquisition.price_amount':1}).sort('acquisition.price_amount',-1))[0])"
   ]
  },
  {
   "cell_type": "markdown",
   "metadata": {},
   "source": [
    "### 16. All the companies on the 'web' `category` that have more than 4000 employees. Sort them by the amount of employees in ascending order."
   ]
  },
  {
   "cell_type": "code",
   "execution_count": 42,
   "metadata": {},
   "outputs": [
    {
     "ename": "IndexError",
     "evalue": "list index out of range",
     "output_type": "error",
     "traceback": [
      "\u001b[1;31m---------------------------------------------------------------------------\u001b[0m",
      "\u001b[1;31mIndexError\u001b[0m                                Traceback (most recent call last)",
      "\u001b[1;32mc:\\Users\\Alberto\\git_yo\\dia14\\3.4-lab-mongo\\your_code\\main.ipynb Cell 35'\u001b[0m in \u001b[0;36m<cell line: 1>\u001b[1;34m()\u001b[0m\n\u001b[1;32m----> <a href='vscode-notebook-cell:/c%3A/Users/Alberto/git_yo/dia14/3.4-lab-mongo/your_code/main.ipynb#ch0000034?line=0'>1</a>\u001b[0m \u001b[39mprint\u001b[39m(\u001b[39mlist\u001b[39;49m(colec\u001b[39m.\u001b[39;49mfind({\u001b[39m'\u001b[39;49m\u001b[39m$and\u001b[39;49m\u001b[39m'\u001b[39;49m:[{\u001b[39m'\u001b[39;49m\u001b[39mamount_of_employees\u001b[39;49m\u001b[39m'\u001b[39;49m:{\u001b[39m\"\u001b[39;49m\u001b[39m$gt\u001b[39;49m\u001b[39m\"\u001b[39;49m:\u001b[39m4000\u001b[39;49m}},{\u001b[39m'\u001b[39;49m\u001b[39mcategory_code\u001b[39;49m\u001b[39m'\u001b[39;49m:\u001b[39m'\u001b[39;49m\u001b[39mWeb\u001b[39;49m\u001b[39m'\u001b[39;49m}]},{\u001b[39m'\u001b[39;49m\u001b[39m_id\u001b[39;49m\u001b[39m'\u001b[39;49m:\u001b[39m0\u001b[39;49m, \u001b[39m'\u001b[39;49m\u001b[39mname\u001b[39;49m\u001b[39m'\u001b[39;49m:\u001b[39m1\u001b[39;49m})\u001b[39m.\u001b[39;49msort(\u001b[39m'\u001b[39;49m\u001b[39mnumber_of_employees\u001b[39;49m\u001b[39m'\u001b[39;49m,\u001b[39m1\u001b[39;49m))[\u001b[39m0\u001b[39;49m])\n",
      "\u001b[1;31mIndexError\u001b[0m: list index out of range"
     ]
    }
   ],
   "source": [
    "print(list(colec.find({'$and':[{'amount_of_employees':{\"$gt\":4000}},{'category_code':'web'}]},{'_id':0, 'name':1}).sort('number_of_employees',1))[0])\n"
   ]
  },
  {
   "cell_type": "markdown",
   "metadata": {},
   "source": [
    "### 17. All the companies whose acquisition amount is more than 10.000.000, and currency is 'EUR'."
   ]
  },
  {
   "cell_type": "code",
   "execution_count": 43,
   "metadata": {},
   "outputs": [
    {
     "ename": "IndexError",
     "evalue": "list index out of range",
     "output_type": "error",
     "traceback": [
      "\u001b[1;31m---------------------------------------------------------------------------\u001b[0m",
      "\u001b[1;31mIndexError\u001b[0m                                Traceback (most recent call last)",
      "\u001b[1;32mc:\\Users\\Alberto\\git_yo\\dia14\\3.4-lab-mongo\\your_code\\main.ipynb Cell 37'\u001b[0m in \u001b[0;36m<cell line: 1>\u001b[1;34m()\u001b[0m\n\u001b[1;32m----> <a href='vscode-notebook-cell:/c%3A/Users/Alberto/git_yo/dia14/3.4-lab-mongo/your_code/main.ipynb#ch0000036?line=0'>1</a>\u001b[0m \u001b[39mprint\u001b[39m(\u001b[39mlist\u001b[39;49m(colec\u001b[39m.\u001b[39;49mfind({\u001b[39m'\u001b[39;49m\u001b[39m$and\u001b[39;49m\u001b[39m'\u001b[39;49m:[{\u001b[39m'\u001b[39;49m\u001b[39macquisition.price_amount\u001b[39;49m\u001b[39m'\u001b[39;49m:{\u001b[39m\"\u001b[39;49m\u001b[39m$gt\u001b[39;49m\u001b[39m\"\u001b[39;49m:\u001b[39m1e7\u001b[39;49m}},{\u001b[39m'\u001b[39;49m\u001b[39mprice_currency_code\u001b[39;49m\u001b[39m'\u001b[39;49m:\u001b[39m'\u001b[39;49m\u001b[39mEUR\u001b[39;49m\u001b[39m'\u001b[39;49m}]},{\u001b[39m'\u001b[39;49m\u001b[39m_id\u001b[39;49m\u001b[39m'\u001b[39;49m:\u001b[39m0\u001b[39;49m, \u001b[39m'\u001b[39;49m\u001b[39mname\u001b[39;49m\u001b[39m'\u001b[39;49m:\u001b[39m1\u001b[39;49m})\u001b[39m.\u001b[39;49msort(\u001b[39m'\u001b[39;49m\u001b[39mnumber_of_employees\u001b[39;49m\u001b[39m'\u001b[39;49m,\u001b[39m1\u001b[39;49m))[\u001b[39m0\u001b[39;49m])\n",
      "\u001b[1;31mIndexError\u001b[0m: list index out of range"
     ]
    }
   ],
   "source": [
    "print(list(colec.find({'$and':[{'acquisition.price_amount':{\"$gt\":1e7}},{'price_currency_code':'EUR'}]},{'_id':0, 'name':1,'acquisition.price_amount':1}))[0])"
   ]
  },
  {
   "cell_type": "markdown",
   "metadata": {},
   "source": [
    "### 18. All the companies that have been acquired on the first trimester of the year. Limit the search to 10 companies, and retrieve only their `name` and `acquisition` fields."
   ]
  },
  {
   "cell_type": "code",
   "execution_count": 44,
   "metadata": {},
   "outputs": [
    {
     "name": "stdout",
     "output_type": "stream",
     "text": [
      "{'name': 'StumbleUpon', 'acquisition': {'price_amount': 29000000, 'price_currency_code': 'USD', 'term_code': None, 'source_url': 'http://techcrunch.com/2009/04/13/ebay-unacquires-stumbleupon/', 'source_description': \"StumbleUpon Beats Skype In Escaping EBay's Clutches\", 'acquired_year': 2009, 'acquired_month': 4, 'acquired_day': None, 'acquiring_company': {'name': 'StumbleUpon', 'permalink': 'stumbleupon'}}}\n"
     ]
    }
   ],
   "source": [
    "print(list(colec.find({'acquisition.acquired_month':{'$lte':4}}, {'_id':0, 'name':1,'acquisition':1}).limit(10))[0])"
   ]
  },
  {
   "cell_type": "markdown",
   "metadata": {},
   "source": [
    "# Bonus\n",
    "### 19. All the companies that have been founded between 2000 and 2010, but have not been acquired before 2011."
   ]
  },
  {
   "cell_type": "code",
   "execution_count": 46,
   "metadata": {},
   "outputs": [
    {
     "name": "stdout",
     "output_type": "stream",
     "text": [
      "{'name': 'Wetpaint', 'founded_year': 2005, 'acquisition': {'acquired_year': 2013}}\n"
     ]
    }
   ],
   "source": [
    "print(list(colec.find({\"$and\": [{\"$and\": [{\"founded_year\":{'$gte':2000}}, {\"founded_year\":{'$lte':2010}}]},{'acquisition.acquired_year':{'$gte':2011}}]},{'_id':0, 'name':1,'acquisition.acquired_year':1,\"founded_year\":1}))[0])\n",
    "\n"
   ]
  },
  {
   "cell_type": "markdown",
   "metadata": {},
   "source": [
    "### 20. All the companies that have been 'deadpooled' after the third year."
   ]
  },
  {
   "cell_type": "code",
   "execution_count": 54,
   "metadata": {},
   "outputs": [
    {
     "ename": "TypeError",
     "evalue": "unsupported operand type(s) for -: 'str' and 'str'",
     "output_type": "error",
     "traceback": [
      "\u001b[1;31m---------------------------------------------------------------------------\u001b[0m",
      "\u001b[1;31mTypeError\u001b[0m                                 Traceback (most recent call last)",
      "\u001b[1;32mc:\\Users\\Alberto\\git_yo\\dia14\\3.4-lab-mongo\\your_code\\main.ipynb Cell 43'\u001b[0m in \u001b[0;36m<cell line: 1>\u001b[1;34m()\u001b[0m\n\u001b[1;32m----> <a href='vscode-notebook-cell:/c%3A/Users/Alberto/git_yo/dia14/3.4-lab-mongo/your_code/main.ipynb#ch0000042?line=0'>1</a>\u001b[0m \u001b[39mprint\u001b[39m(\u001b[39mlist\u001b[39m(colec\u001b[39m.\u001b[39mfind({\u001b[39m'\u001b[39;49m\u001b[39mdeadpooled_year\u001b[39;49m\u001b[39m'\u001b[39;49m\u001b[39m-\u001b[39;49m\u001b[39m'\u001b[39;49m\u001b[39mfounded_year\u001b[39;49m\u001b[39m'\u001b[39;49m:{\u001b[39m'\u001b[39m\u001b[39m$gt\u001b[39m\u001b[39m'\u001b[39m:\u001b[39m3\u001b[39m}}, {\u001b[39m'\u001b[39m\u001b[39m_id\u001b[39m\u001b[39m'\u001b[39m:\u001b[39m0\u001b[39m, \u001b[39m'\u001b[39m\u001b[39mname\u001b[39m\u001b[39m'\u001b[39m:\u001b[39m1\u001b[39m, \u001b[39m'\u001b[39m\u001b[39mdeadpooled_year\u001b[39m\u001b[39m'\u001b[39m:\u001b[39m1\u001b[39m}))[\u001b[39m0\u001b[39m])\n",
      "\u001b[1;31mTypeError\u001b[0m: unsupported operand type(s) for -: 'str' and 'str'"
     ]
    }
   ],
   "source": [
    "### print(list(colec.find({'deadpooled_year'-'founded_year':{'$gt':3}}, {'_id':0, 'name':1, 'deadpooled_year':1}))[0])\n"
   ]
  },
  {
   "cell_type": "code",
   "execution_count": null,
   "metadata": {},
   "outputs": [],
   "source": []
  }
 ],
 "metadata": {
  "kernelspec": {
   "display_name": "Python 3",
   "language": "python",
   "name": "python3"
  },
  "language_info": {
   "codemirror_mode": {
    "name": "ipython",
    "version": 3
   },
   "file_extension": ".py",
   "mimetype": "text/x-python",
   "name": "python",
   "nbconvert_exporter": "python",
   "pygments_lexer": "ipython3",
   "version": "3.9.7"
  }
 },
 "nbformat": 4,
 "nbformat_minor": 2
}
