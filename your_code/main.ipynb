{
 "cells": [
  {
   "cell_type": "markdown",
   "metadata": {},
   "source": [
    "# Advanced Querying Mongo"
   ]
  },
  {
   "cell_type": "markdown",
   "metadata": {},
   "source": [
    "Importing libraries and setting up connection"
   ]
  },
  {
   "cell_type": "code",
   "execution_count": 2,
   "metadata": {},
   "outputs": [
    {
     "name": "stdout",
     "output_type": "stream",
     "text": [
      "Collecting pymongo\n",
      "  Downloading pymongo-4.1.0-cp38-cp38-win_amd64.whl (363 kB)\n",
      "     ------------------------------------ 363.1/363.1 KB 779.0 kB/s eta 0:00:00\n",
      "Installing collected packages: pymongo\n",
      "Successfully installed pymongo-4.1.0\n",
      "Note: you may need to restart the kernel to use updated packages.\n"
     ]
    }
   ],
   "source": [
    "%pip install pymongo"
   ]
  },
  {
   "cell_type": "code",
   "execution_count": 3,
   "metadata": {},
   "outputs": [],
   "source": [
    "from pymongo import MongoClient\n",
    "\n",
    "import warnings\n",
    "warnings.filterwarnings('ignore')\n",
    "\n",
    "client = MongoClient()"
   ]
  },
  {
   "cell_type": "markdown",
   "metadata": {},
   "source": [
    "### 1. All the companies whose name match 'Babelgum'. Retrieve only their `name` field."
   ]
  },
  {
   "cell_type": "code",
   "execution_count": 4,
   "metadata": {},
   "outputs": [
    {
     "data": {
      "text/plain": [
       "[{'_id': ObjectId('52cdef7c4bab8bd675297da0'), 'name': 'Babelgum'}]"
      ]
     },
     "execution_count": 4,
     "metadata": {},
     "output_type": "execute_result"
    }
   ],
   "source": [
    "#Declaro el database\n",
    "db = client.ironhack\n",
    "\n",
    "#Declaro collection\n",
    "colec = db.ironhack\n",
    "\n",
    "list(colec.find({'name': 'Babelgum'},{'name':1}))"
   ]
  },
  {
   "cell_type": "markdown",
   "metadata": {},
   "source": [
    "### 2. All the companies that have more than 5000 employees. Limit the search to 20 companies and sort them by **number of employees**."
   ]
  },
  {
   "cell_type": "code",
   "execution_count": 5,
   "metadata": {},
   "outputs": [
    {
     "data": {
      "text/plain": [
       "[{'_id': ObjectId('52cdef7d4bab8bd67529941a'), 'name': 'Siemens'},\n",
       " {'_id': ObjectId('52cdef7c4bab8bd67529856a'), 'name': 'IBM'},\n",
       " {'_id': ObjectId('52cdef7d4bab8bd675299d33'), 'name': 'Toyota'},\n",
       " {'_id': ObjectId('52cdef7c4bab8bd675297e89'), 'name': 'PayPal'},\n",
       " {'_id': ObjectId('52cdef7e4bab8bd67529b0fe'),\n",
       "  'name': 'Nippon Telegraph and Telephone Corporation'},\n",
       " {'_id': ObjectId('52cdef7d4bab8bd675298aa4'), 'name': 'Samsung Electronics'},\n",
       " {'_id': ObjectId('52cdef7d4bab8bd675298b99'), 'name': 'Accenture'},\n",
       " {'_id': ObjectId('52cdef7e4bab8bd67529a657'),\n",
       "  'name': 'Tata Consultancy Services'},\n",
       " {'_id': ObjectId('52cdef7e4bab8bd67529aa51'),\n",
       "  'name': 'Flextronics International'},\n",
       " {'_id': ObjectId('52cdef7d4bab8bd675299156'), 'name': 'Safeway'},\n",
       " {'_id': ObjectId('52cdef7c4bab8bd675297e6f'), 'name': 'Sony'},\n",
       " {'_id': ObjectId('52cdef7c4bab8bd675298517'), 'name': 'LG'},\n",
       " {'_id': ObjectId('52cdef7d4bab8bd675299d31'), 'name': 'Ford'},\n",
       " {'_id': ObjectId('52cdef7d4bab8bd675298b28'), 'name': 'Boeing'},\n",
       " {'_id': ObjectId('52cdef7e4bab8bd67529bb5c'),\n",
       "  'name': 'Digital Equipment Corporation'},\n",
       " {'_id': ObjectId('52cdef7c4bab8bd675297fc2'), 'name': 'Nokia'},\n",
       " {'_id': ObjectId('52cdef7d4bab8bd675299839'), 'name': 'MItsubishi Electric'},\n",
       " {'_id': ObjectId('52cdef7d4bab8bd675299bc3'), 'name': 'MItsubishi Electric'},\n",
       " {'_id': ObjectId('52cdef7c4bab8bd6752987ad'), 'name': 'Comcast'},\n",
       " {'_id': ObjectId('52cdef7d4bab8bd675298d67'), 'name': 'Bertelsmann'}]"
      ]
     },
     "execution_count": 5,
     "metadata": {},
     "output_type": "execute_result"
    }
   ],
   "source": [
    "list(colec.find({'number_of_employees':{'$gt':5000}},{'name':1}).sort('number_of_employees',-1))[:20]"
   ]
  },
  {
   "cell_type": "markdown",
   "metadata": {},
   "source": [
    "### 3. All the companies founded between 2000 and 2005, both years included. Retrieve only the `name` and `founded_year` fields."
   ]
  },
  {
   "cell_type": "code",
   "execution_count": 6,
   "metadata": {},
   "outputs": [
    {
     "data": {
      "text/plain": [
       "[{'_id': ObjectId('52cdef7c4bab8bd675297d8a'),\n",
       "  'name': 'Wetpaint',\n",
       "  'founded_year': 2005},\n",
       " {'_id': ObjectId('52cdef7c4bab8bd675297d8c'),\n",
       "  'name': 'Zoho',\n",
       "  'founded_year': 2005},\n",
       " {'_id': ObjectId('52cdef7c4bab8bd675297d8d'),\n",
       "  'name': 'Digg',\n",
       "  'founded_year': 2004},\n",
       " {'_id': ObjectId('52cdef7c4bab8bd675297d8e'),\n",
       "  'name': 'Facebook',\n",
       "  'founded_year': 2004},\n",
       " {'_id': ObjectId('52cdef7c4bab8bd675297d8f'),\n",
       "  'name': 'Omnidrive',\n",
       "  'founded_year': 2005}]"
      ]
     },
     "execution_count": 6,
     "metadata": {},
     "output_type": "execute_result"
    }
   ],
   "source": [
    "list(colec.find({'$and':    [{'founded_year': {'$gte': 2000}},\n",
    "                            {'founded_year': {'$lte': 2005}}]},{'name':1,'founded_year':1}))[:5]"
   ]
  },
  {
   "cell_type": "markdown",
   "metadata": {},
   "source": [
    "### 4. All the companies that had a Valuation Amount of more than 100.000.000 and have been founded before 2010. Retrieve only the `name` and `ipo` fields."
   ]
  },
  {
   "cell_type": "code",
   "execution_count": 7,
   "metadata": {},
   "outputs": [
    {
     "data": {
      "text/plain": [
       "[{'_id': ObjectId('52cdef7c4bab8bd675297d8e'),\n",
       "  'name': 'Facebook',\n",
       "  'ipo': {'valuation_amount': 104000000000,\n",
       "   'valuation_currency_code': 'USD',\n",
       "   'pub_year': 2012,\n",
       "   'pub_month': 5,\n",
       "   'pub_day': 18,\n",
       "   'stock_symbol': 'NASDAQ:FB'}},\n",
       " {'_id': ObjectId('52cdef7c4bab8bd675297d94'),\n",
       "  'name': 'Twitter',\n",
       "  'ipo': {'valuation_amount': 18100000000,\n",
       "   'valuation_currency_code': 'USD',\n",
       "   'pub_year': 2013,\n",
       "   'pub_month': 11,\n",
       "   'pub_day': 7,\n",
       "   'stock_symbol': 'NYSE:TWTR'}},\n",
       " {'_id': ObjectId('52cdef7c4bab8bd675297de0'),\n",
       "  'name': 'Yelp',\n",
       "  'ipo': {'valuation_amount': 1300000000,\n",
       "   'valuation_currency_code': 'USD',\n",
       "   'pub_year': 2012,\n",
       "   'pub_month': 3,\n",
       "   'pub_day': 2,\n",
       "   'stock_symbol': 'NYSE:YELP'}},\n",
       " {'_id': ObjectId('52cdef7c4bab8bd675297e0c'),\n",
       "  'name': 'LinkedIn',\n",
       "  'ipo': {'valuation_amount': 9310000000,\n",
       "   'valuation_currency_code': 'USD',\n",
       "   'pub_year': 2011,\n",
       "   'pub_month': 7,\n",
       "   'pub_day': 20,\n",
       "   'stock_symbol': 'NYSE:LNKD'}},\n",
       " {'_id': ObjectId('52cdef7c4bab8bd675297e7a'),\n",
       "  'name': 'Amazon',\n",
       "  'ipo': {'valuation_amount': 100000000000,\n",
       "   'valuation_currency_code': 'USD',\n",
       "   'pub_year': 1997,\n",
       "   'pub_month': 5,\n",
       "   'pub_day': None,\n",
       "   'stock_symbol': 'NASDAQ:AMZN'}},\n",
       " {'_id': ObjectId('52cdef7c4bab8bd675297e81'),\n",
       "  'name': 'Brightcove',\n",
       "  'ipo': {'valuation_amount': 290000000,\n",
       "   'valuation_currency_code': 'USD',\n",
       "   'pub_year': 2012,\n",
       "   'pub_month': 2,\n",
       "   'pub_day': 17,\n",
       "   'stock_symbol': 'NASDAQ:BCOV'}},\n",
       " {'_id': ObjectId('52cdef7c4bab8bd675297ee5'),\n",
       "  'name': 'KIT digital',\n",
       "  'ipo': {'valuation_amount': 235000000,\n",
       "   'valuation_currency_code': 'USD',\n",
       "   'pub_year': 2010,\n",
       "   'pub_month': 7,\n",
       "   'pub_day': 27,\n",
       "   'stock_symbol': 'KITD'}},\n",
       " {'_id': ObjectId('52cdef7c4bab8bd675297f15'),\n",
       "  'name': 'Nielsen',\n",
       "  'ipo': {'valuation_amount': 1600000000,\n",
       "   'valuation_currency_code': 'USD',\n",
       "   'pub_year': 2011,\n",
       "   'pub_month': 1,\n",
       "   'pub_day': 26,\n",
       "   'stock_symbol': 'NYSE:NLSN'}},\n",
       " {'_id': ObjectId('52cdef7c4bab8bd675297f36'),\n",
       "  'name': 'OpenTable',\n",
       "  'ipo': {'valuation_amount': 1050000000,\n",
       "   'valuation_currency_code': 'USD',\n",
       "   'pub_year': 2009,\n",
       "   'pub_month': 5,\n",
       "   'pub_day': 21,\n",
       "   'stock_symbol': 'NASDAQ:OPEN'}},\n",
       " {'_id': ObjectId('52cdef7c4bab8bd675297f42'),\n",
       "  'name': 'ChannelAdvisor',\n",
       "  'ipo': {'valuation_amount': 287000000,\n",
       "   'valuation_currency_code': 'USD',\n",
       "   'pub_year': 2013,\n",
       "   'pub_month': 5,\n",
       "   'pub_day': 23,\n",
       "   'stock_symbol': 'NYSE:ECOM'}},\n",
       " {'_id': ObjectId('52cdef7c4bab8bd675297f95'),\n",
       "  'name': 'Jive Software',\n",
       "  'ipo': {'valuation_amount': 1000000000,\n",
       "   'valuation_currency_code': 'USD',\n",
       "   'pub_year': 2012,\n",
       "   'pub_month': 2,\n",
       "   'pub_day': 3,\n",
       "   'stock_symbol': 'NASDAQ:JIVE'}},\n",
       " {'_id': ObjectId('52cdef7c4bab8bd67529800c'),\n",
       "  'name': 'Zillow',\n",
       "  'ipo': {'valuation_amount': 2550000000,\n",
       "   'valuation_currency_code': 'USD',\n",
       "   'pub_year': 2011,\n",
       "   'pub_month': 7,\n",
       "   'pub_day': 19,\n",
       "   'stock_symbol': 'NASDAQ:Z'}},\n",
       " {'_id': ObjectId('52cdef7c4bab8bd67529805d'),\n",
       "  'name': 'Wix',\n",
       "  'ipo': {'valuation_amount': 750000000,\n",
       "   'valuation_currency_code': 'USD',\n",
       "   'pub_year': 2013,\n",
       "   'pub_month': 11,\n",
       "   'pub_day': 6,\n",
       "   'stock_symbol': 'NASDAQ:WIX'}},\n",
       " {'_id': ObjectId('52cdef7c4bab8bd675298112'),\n",
       "  'name': 'Shutterfly',\n",
       "  'ipo': {'valuation_amount': 350000000,\n",
       "   'valuation_currency_code': 'USD',\n",
       "   'pub_year': 2006,\n",
       "   'pub_month': 9,\n",
       "   'pub_day': 29,\n",
       "   'stock_symbol': 'SFLY'}},\n",
       " {'_id': ObjectId('52cdef7c4bab8bd6752981a7'),\n",
       "  'name': 'TripAdvisor',\n",
       "  'ipo': {'valuation_amount': 3273770000,\n",
       "   'valuation_currency_code': 'USD',\n",
       "   'pub_year': 2011,\n",
       "   'pub_month': 12,\n",
       "   'pub_day': 21,\n",
       "   'stock_symbol': 'TRIP'}},\n",
       " {'_id': ObjectId('52cdef7c4bab8bd67529823b'),\n",
       "  'name': 'Salesforce',\n",
       "  'ipo': {'valuation_amount': 110000000,\n",
       "   'valuation_currency_code': 'USD',\n",
       "   'pub_year': 2004,\n",
       "   'pub_month': 7,\n",
       "   'pub_day': 2,\n",
       "   'stock_symbol': 'NYSE:CRM'}},\n",
       " {'_id': ObjectId('52cdef7c4bab8bd6752982f6'),\n",
       "  'name': 'HomeAway',\n",
       "  'ipo': {'valuation_amount': 3000000000,\n",
       "   'valuation_currency_code': 'USD',\n",
       "   'pub_year': 2011,\n",
       "   'pub_month': 6,\n",
       "   'pub_day': 29,\n",
       "   'stock_symbol': 'NASDAQ:AWAY'}},\n",
       " {'_id': ObjectId('52cdef7c4bab8bd6752984e3'),\n",
       "  'name': 'QuinStreet',\n",
       "  'ipo': {'valuation_amount': 140000000,\n",
       "   'valuation_currency_code': 'USD',\n",
       "   'pub_year': 2010,\n",
       "   'pub_month': 1,\n",
       "   'pub_day': 11,\n",
       "   'stock_symbol': 'NASDAQ:QNST'}},\n",
       " {'_id': ObjectId('52cdef7c4bab8bd675298527'),\n",
       "  'name': 'Rackspace',\n",
       "  'ipo': {'valuation_amount': 5440000000,\n",
       "   'valuation_currency_code': 'USD',\n",
       "   'pub_year': 2011,\n",
       "   'pub_month': 11,\n",
       "   'pub_day': 7,\n",
       "   'stock_symbol': 'RAX'}},\n",
       " {'_id': ObjectId('52cdef7c4bab8bd67529859a'),\n",
       "  'name': 'BMC Software',\n",
       "  'ipo': {'valuation_amount': 6000000000,\n",
       "   'valuation_currency_code': 'USD',\n",
       "   'pub_year': 1988,\n",
       "   'pub_month': 8,\n",
       "   'pub_day': 12,\n",
       "   'stock_symbol': 'NASDAQ:BMC'}},\n",
       " {'_id': ObjectId('52cdef7c4bab8bd675298649'),\n",
       "  'name': 'Higher One',\n",
       "  'ipo': {'valuation_amount': 1060000000,\n",
       "   'valuation_currency_code': 'USD',\n",
       "   'pub_year': None,\n",
       "   'pub_month': None,\n",
       "   'pub_day': None,\n",
       "   'stock_symbol': 'NYSE:ONE'}},\n",
       " {'_id': ObjectId('52cdef7c4bab8bd67529865c'),\n",
       "  'name': 'Infoblox',\n",
       "  'ipo': {'valuation_amount': 824000000,\n",
       "   'valuation_currency_code': 'USD',\n",
       "   'pub_year': 2012,\n",
       "   'pub_month': 4,\n",
       "   'pub_day': 20,\n",
       "   'stock_symbol': 'NYSE:BLOX'}},\n",
       " {'_id': ObjectId('52cdef7c4bab8bd675298674'),\n",
       "  'name': 'Tencent',\n",
       "  'ipo': {'valuation_amount': 11000000000,\n",
       "   'valuation_currency_code': 'USD',\n",
       "   'pub_year': 2004,\n",
       "   'pub_month': 6,\n",
       "   'pub_day': 16,\n",
       "   'stock_symbol': 'HK:0700'}},\n",
       " {'_id': ObjectId('52cdef7c4bab8bd675298696'),\n",
       "  'name': 'Marketo',\n",
       "  'ipo': {'valuation_amount': 465000000,\n",
       "   'valuation_currency_code': 'USD',\n",
       "   'pub_year': 2013,\n",
       "   'pub_month': 4,\n",
       "   'pub_day': 2,\n",
       "   'stock_symbol': 'NASDAQ:MKTO'}},\n",
       " {'_id': ObjectId('52cdef7c4bab8bd675298760'),\n",
       "  'name': 'Baidu',\n",
       "  'ipo': {'valuation_amount': 4000000000,\n",
       "   'valuation_currency_code': 'USD',\n",
       "   'pub_year': 2005,\n",
       "   'pub_month': 8,\n",
       "   'pub_day': 5,\n",
       "   'stock_symbol': 'NASDAQ:BIDU'}},\n",
       " {'_id': ObjectId('52cdef7c4bab8bd6752987fe'),\n",
       "  'name': 'Geeknet',\n",
       "  'ipo': {'valuation_amount': 134000000,\n",
       "   'valuation_currency_code': 'USD',\n",
       "   'pub_year': 2010,\n",
       "   'pub_month': 11,\n",
       "   'pub_day': 2,\n",
       "   'stock_symbol': 'GKNT'}},\n",
       " {'_id': ObjectId('52cdef7d4bab8bd6752989a0'),\n",
       "  'name': 'Opsware',\n",
       "  'ipo': {'valuation_amount': 450000000,\n",
       "   'valuation_currency_code': 'USD',\n",
       "   'pub_year': 2001,\n",
       "   'pub_month': 3,\n",
       "   'pub_day': 9,\n",
       "   'stock_symbol': 'NASDAQ:LDCL'}},\n",
       " {'_id': ObjectId('52cdef7d4bab8bd6752989f2'),\n",
       "  'name': 'Telenav',\n",
       "  'ipo': {'valuation_amount': 337000000,\n",
       "   'valuation_currency_code': 'USD',\n",
       "   'pub_year': 2010,\n",
       "   'pub_month': 5,\n",
       "   'pub_day': 13,\n",
       "   'stock_symbol': 'TNAV'}},\n",
       " {'_id': ObjectId('52cdef7d4bab8bd675298d0e'),\n",
       "  'name': 'Rally Software',\n",
       "  'ipo': {'valuation_amount': 315000000,\n",
       "   'valuation_currency_code': 'USD',\n",
       "   'pub_year': 2013,\n",
       "   'pub_month': 4,\n",
       "   'pub_day': 12,\n",
       "   'stock_symbol': 'RALY'}},\n",
       " {'_id': ObjectId('52cdef7d4bab8bd675298d12'),\n",
       "  'name': 'BrightSource Energy',\n",
       "  'ipo': {'valuation_amount': 1000000000,\n",
       "   'valuation_currency_code': 'USD',\n",
       "   'pub_year': 2011,\n",
       "   'pub_month': 4,\n",
       "   'pub_day': 22,\n",
       "   'stock_symbol': 'NASDAQ:BRSE'}},\n",
       " {'_id': ObjectId('52cdef7d4bab8bd675299103'),\n",
       "  'name': 'Mixi',\n",
       "  'ipo': {'valuation_amount': 970000000,\n",
       "   'valuation_currency_code': 'USD',\n",
       "   'pub_year': 2006,\n",
       "   'pub_month': 9,\n",
       "   'pub_day': 14,\n",
       "   'stock_symbol': 'JP:2121'}},\n",
       " {'_id': ObjectId('52cdef7d4bab8bd6752992c1'),\n",
       "  'name': 'QlikTech',\n",
       "  'ipo': {'valuation_amount': 1000000000,\n",
       "   'valuation_currency_code': 'USD',\n",
       "   'pub_year': 2010,\n",
       "   'pub_month': 7,\n",
       "   'pub_day': 16,\n",
       "   'stock_symbol': 'QLIK'}},\n",
       " {'_id': ObjectId('52cdef7d4bab8bd67529984e'),\n",
       "  'name': 'Chegg',\n",
       "  'ipo': {'valuation_amount': 1100000000,\n",
       "   'valuation_currency_code': 'USD',\n",
       "   'pub_year': 2013,\n",
       "   'pub_month': 11,\n",
       "   'pub_day': 14,\n",
       "   'stock_symbol': 'NYSE:CHGG'}},\n",
       " {'_id': ObjectId('52cdef7d4bab8bd675299bd8'),\n",
       "  'name': 'Chegg',\n",
       "  'ipo': {'valuation_amount': 1100000000,\n",
       "   'valuation_currency_code': 'USD',\n",
       "   'pub_year': 2013,\n",
       "   'pub_month': 11,\n",
       "   'pub_day': 14,\n",
       "   'stock_symbol': 'NYSE:CHGG'}},\n",
       " {'_id': ObjectId('52cdef7d4bab8bd675299d5d'),\n",
       "  'name': 'Groupon',\n",
       "  'ipo': {'valuation_amount': 12800000000,\n",
       "   'valuation_currency_code': 'USD',\n",
       "   'pub_year': 2011,\n",
       "   'pub_month': 11,\n",
       "   'pub_day': 7,\n",
       "   'stock_symbol': 'NASDAQ:GRPN'}},\n",
       " {'_id': ObjectId('52cdef7e4bab8bd67529a7db'),\n",
       "  'name': 'SolarWinds',\n",
       "  'ipo': {'valuation_amount': 803000000,\n",
       "   'valuation_currency_code': 'USD',\n",
       "   'pub_year': 2009,\n",
       "   'pub_month': 5,\n",
       "   'pub_day': 20,\n",
       "   'stock_symbol': 'SWI'}},\n",
       " {'_id': ObjectId('52cdef7e4bab8bd67529a8b4'),\n",
       "  'name': 'GREE',\n",
       "  'ipo': {'valuation_amount': 108960000000,\n",
       "   'valuation_currency_code': 'JPY',\n",
       "   'pub_year': 2008,\n",
       "   'pub_month': 12,\n",
       "   'pub_day': 17,\n",
       "   'stock_symbol': '3632'}},\n",
       " {'_id': ObjectId('52cdef7e4bab8bd67529aae7'),\n",
       "  'name': 'Tudou',\n",
       "  'ipo': {'valuation_amount': 174000000,\n",
       "   'valuation_currency_code': 'USD',\n",
       "   'pub_year': None,\n",
       "   'pub_month': None,\n",
       "   'pub_day': None,\n",
       "   'stock_symbol': 'NASDAQ:TUDO'}},\n",
       " {'_id': ObjectId('52cdef7e4bab8bd67529ad05'),\n",
       "  'name': 'DemandTec',\n",
       "  'ipo': {'valuation_amount': 245000000,\n",
       "   'valuation_currency_code': 'USD',\n",
       "   'pub_year': 2011,\n",
       "   'pub_month': 2,\n",
       "   'pub_day': 14,\n",
       "   'stock_symbol': 'NASDAQ:DMAN'}},\n",
       " {'_id': ObjectId('52cdef7e4bab8bd67529b3bd'),\n",
       "  'name': 'Cornerstone OnDemand',\n",
       "  'ipo': {'valuation_amount': 900000000,\n",
       "   'valuation_currency_code': 'USD',\n",
       "   'pub_year': 2011,\n",
       "   'pub_month': 7,\n",
       "   'pub_day': 5,\n",
       "   'stock_symbol': 'CSOD'}},\n",
       " {'_id': ObjectId('52cdef7e4bab8bd67529b996'),\n",
       "  'name': 'Western Digital',\n",
       "  'ipo': {'valuation_amount': 9430000000,\n",
       "   'valuation_currency_code': 'USD',\n",
       "   'pub_year': None,\n",
       "   'pub_month': None,\n",
       "   'pub_day': None,\n",
       "   'stock_symbol': 'NYSE:WDC'}},\n",
       " {'_id': ObjectId('52cdef7e4bab8bd67529bb87'),\n",
       "  'name': 'Millennial Media',\n",
       "  'ipo': {'valuation_amount': 973500000,\n",
       "   'valuation_currency_code': 'USD',\n",
       "   'pub_year': 2012,\n",
       "   'pub_month': 3,\n",
       "   'pub_day': 28,\n",
       "   'stock_symbol': 'NYSE:MM'}}]"
      ]
     },
     "execution_count": 7,
     "metadata": {},
     "output_type": "execute_result"
    }
   ],
   "source": [
    "list(colec.find({'$and':    [{'ipo.valuation_amount': {'$gt': 1e8}},\n",
    "                            {'founded_year': {'$lt': 2010}}]},{'name':1,'ipo':1}))"
   ]
  },
  {
   "cell_type": "markdown",
   "metadata": {},
   "source": [
    "### 5. All the companies that have less than 1000 employees and have been founded before 2005. Order them by the number of employees and limit the search to 10 companies."
   ]
  },
  {
   "cell_type": "code",
   "execution_count": 8,
   "metadata": {},
   "outputs": [
    {
     "data": {
      "text/plain": [
       "[{'_id': ObjectId('52cdef7d4bab8bd675298933'), 'name': 'Infinera Corporation'},\n",
       " {'_id': ObjectId('52cdef7e4bab8bd67529ac95'),\n",
       "  'name': 'NorthPoint Communications Group'},\n",
       " {'_id': ObjectId('52cdef7f4bab8bd67529be17'), 'name': '888 Holdings'},\n",
       " {'_id': ObjectId('52cdef7c4bab8bd6752986a2'), 'name': 'Forrester Research'},\n",
       " {'_id': ObjectId('52cdef7e4bab8bd67529af6d'), 'name': 'SonicWALL'},\n",
       " {'_id': ObjectId('52cdef7e4bab8bd67529b21b'), 'name': 'Webmetrics'},\n",
       " {'_id': ObjectId('52cdef7e4bab8bd67529b3bd'), 'name': 'Cornerstone OnDemand'},\n",
       " {'_id': ObjectId('52cdef7c4bab8bd675297de0'), 'name': 'Yelp'},\n",
       " {'_id': ObjectId('52cdef7c4bab8bd675297ef5'), 'name': 'MySpace'},\n",
       " {'_id': ObjectId('52cdef7c4bab8bd675297efd'), 'name': 'ZoomInfo'}]"
      ]
     },
     "execution_count": 8,
     "metadata": {},
     "output_type": "execute_result"
    }
   ],
   "source": [
    "list(colec.find({'$and': [{'number_of_employees': {'$lt': 1000}},\n",
    "                          {'founded_year': {'$lt': 2005}}]},{'name':1}).sort('number_of_employees',-1))[:10]"
   ]
  },
  {
   "cell_type": "markdown",
   "metadata": {},
   "source": [
    "### 6. All the companies that don't include the `partners` field."
   ]
  },
  {
   "cell_type": "code",
   "execution_count": 9,
   "metadata": {},
   "outputs": [
    {
     "data": {
      "text/plain": [
       "[]"
      ]
     },
     "execution_count": 9,
     "metadata": {},
     "output_type": "execute_result"
    }
   ],
   "source": [
    "list(colec.find({'partners':'$ifNull'},{'name':1}))"
   ]
  },
  {
   "cell_type": "markdown",
   "metadata": {},
   "source": [
    "### 7. All the companies that have a null type of value on the `category_code` field."
   ]
  },
  {
   "cell_type": "code",
   "execution_count": 10,
   "metadata": {},
   "outputs": [
    {
     "data": {
      "text/plain": [
       "[]"
      ]
     },
     "execution_count": 10,
     "metadata": {},
     "output_type": "execute_result"
    }
   ],
   "source": [
    "list(colec.find({'category_code':{'$exists': False}},{'name':1}))"
   ]
  },
  {
   "cell_type": "markdown",
   "metadata": {},
   "source": [
    "### 8. All the companies that have at least 100 employees but less than 1000. Retrieve only the `name` and `number of employees` fields."
   ]
  },
  {
   "cell_type": "code",
   "execution_count": 11,
   "metadata": {},
   "outputs": [
    {
     "data": {
      "text/plain": [
       "[{'_id': ObjectId('52cdef7c4bab8bd675297d8b'),\n",
       "  'name': 'AdventNet',\n",
       "  'number_of_employees': 600},\n",
       " {'_id': ObjectId('52cdef7c4bab8bd675297da7'),\n",
       "  'name': 'AddThis',\n",
       "  'number_of_employees': 120},\n",
       " {'_id': ObjectId('52cdef7c4bab8bd675297da8'),\n",
       "  'name': 'OpenX',\n",
       "  'number_of_employees': 305},\n",
       " {'_id': ObjectId('52cdef7c4bab8bd675297db5'),\n",
       "  'name': 'LifeLock',\n",
       "  'number_of_employees': 644},\n",
       " {'_id': ObjectId('52cdef7c4bab8bd675297dbb'),\n",
       "  'name': 'Jajah',\n",
       "  'number_of_employees': 110}]"
      ]
     },
     "execution_count": 11,
     "metadata": {},
     "output_type": "execute_result"
    }
   ],
   "source": [
    "list(colec.find({'$and': [{'number_of_employees': {'$gte': 100}},\n",
    "                          {'number_of_employees': {'$lt': 1000}}]},{'name':1,'number_of_employees':1}))[:5]"
   ]
  },
  {
   "cell_type": "markdown",
   "metadata": {},
   "source": [
    "### 9. Order all the companies by their IPO price in a descending order."
   ]
  },
  {
   "cell_type": "code",
   "execution_count": 12,
   "metadata": {},
   "outputs": [
    {
     "data": {
      "text/plain": [
       "[{'_id': ObjectId('52cdef7e4bab8bd67529a8b4'),\n",
       "  'name': 'GREE',\n",
       "  'ipo': {'valuation_amount': 108960000000}},\n",
       " {'_id': ObjectId('52cdef7c4bab8bd675297d8e'),\n",
       "  'name': 'Facebook',\n",
       "  'ipo': {'valuation_amount': 104000000000}},\n",
       " {'_id': ObjectId('52cdef7c4bab8bd675297e7a'),\n",
       "  'name': 'Amazon',\n",
       "  'ipo': {'valuation_amount': 100000000000}},\n",
       " {'_id': ObjectId('52cdef7c4bab8bd675297d94'),\n",
       "  'name': 'Twitter',\n",
       "  'ipo': {'valuation_amount': 18100000000}},\n",
       " {'_id': ObjectId('52cdef7d4bab8bd675299d5d'),\n",
       "  'name': 'Groupon',\n",
       "  'ipo': {'valuation_amount': 12800000000}}]"
      ]
     },
     "execution_count": 12,
     "metadata": {},
     "output_type": "execute_result"
    }
   ],
   "source": [
    "list(colec.find({},{'name':1,'ipo.valuation_amount':1}).sort('ipo.valuation_amount',-1))[:5]"
   ]
  },
  {
   "cell_type": "markdown",
   "metadata": {},
   "source": [
    "### 10. Retrieve the 10 companies with more employees, order by the `number of employees`"
   ]
  },
  {
   "cell_type": "code",
   "execution_count": 13,
   "metadata": {},
   "outputs": [
    {
     "data": {
      "text/plain": [
       "[{'_id': ObjectId('52cdef7d4bab8bd67529941a'),\n",
       "  'name': 'Siemens',\n",
       "  'number_of_employees': 405000},\n",
       " {'_id': ObjectId('52cdef7c4bab8bd67529856a'),\n",
       "  'name': 'IBM',\n",
       "  'number_of_employees': 388000},\n",
       " {'_id': ObjectId('52cdef7d4bab8bd675299d33'),\n",
       "  'name': 'Toyota',\n",
       "  'number_of_employees': 320000},\n",
       " {'_id': ObjectId('52cdef7c4bab8bd675297e89'),\n",
       "  'name': 'PayPal',\n",
       "  'number_of_employees': 300000},\n",
       " {'_id': ObjectId('52cdef7e4bab8bd67529b0fe'),\n",
       "  'name': 'Nippon Telegraph and Telephone Corporation',\n",
       "  'number_of_employees': 227000},\n",
       " {'_id': ObjectId('52cdef7d4bab8bd675298aa4'),\n",
       "  'name': 'Samsung Electronics',\n",
       "  'number_of_employees': 221726},\n",
       " {'_id': ObjectId('52cdef7d4bab8bd675298b99'),\n",
       "  'name': 'Accenture',\n",
       "  'number_of_employees': 205000},\n",
       " {'_id': ObjectId('52cdef7e4bab8bd67529a657'),\n",
       "  'name': 'Tata Consultancy Services',\n",
       "  'number_of_employees': 200300},\n",
       " {'_id': ObjectId('52cdef7e4bab8bd67529aa51'),\n",
       "  'name': 'Flextronics International',\n",
       "  'number_of_employees': 200000},\n",
       " {'_id': ObjectId('52cdef7d4bab8bd675299156'),\n",
       "  'name': 'Safeway',\n",
       "  'number_of_employees': 186000}]"
      ]
     },
     "execution_count": 13,
     "metadata": {},
     "output_type": "execute_result"
    }
   ],
   "source": [
    "list(colec.find({},{'name':1,'number_of_employees':1}).sort('number_of_employees',-1))[:10]"
   ]
  },
  {
   "cell_type": "markdown",
   "metadata": {},
   "source": [
    "### 11. All the companies founded on the second semester of the year. Limit your search to 1000 companies."
   ]
  },
  {
   "cell_type": "code",
   "execution_count": 14,
   "metadata": {},
   "outputs": [
    {
     "data": {
      "text/plain": [
       "[{'_id': ObjectId('52cdef7c4bab8bd675297d8a'),\n",
       "  'name': 'Wetpaint',\n",
       "  'founded_month': 10},\n",
       " {'_id': ObjectId('52cdef7c4bab8bd675297d8c'),\n",
       "  'name': 'Zoho',\n",
       "  'founded_month': 9},\n",
       " {'_id': ObjectId('52cdef7c4bab8bd675297d8d'),\n",
       "  'name': 'Digg',\n",
       "  'founded_month': 10},\n",
       " {'_id': ObjectId('52cdef7c4bab8bd675297d8f'),\n",
       "  'name': 'Omnidrive',\n",
       "  'founded_month': 11},\n",
       " {'_id': ObjectId('52cdef7c4bab8bd675297d90'),\n",
       "  'name': 'Postini',\n",
       "  'founded_month': 6},\n",
       " {'_id': ObjectId('52cdef7c4bab8bd675297d91'),\n",
       "  'name': 'Geni',\n",
       "  'founded_month': 6},\n",
       " {'_id': ObjectId('52cdef7c4bab8bd675297d93'),\n",
       "  'name': 'Fox Interactive Media',\n",
       "  'founded_month': 6},\n",
       " {'_id': ObjectId('52cdef7c4bab8bd675297d9b'),\n",
       "  'name': 'eBay',\n",
       "  'founded_month': 9},\n",
       " {'_id': ObjectId('52cdef7c4bab8bd675297d9d'),\n",
       "  'name': 'Joost',\n",
       "  'founded_month': 10},\n",
       " {'_id': ObjectId('52cdef7c4bab8bd675297da1'),\n",
       "  'name': 'Plaxo',\n",
       "  'founded_month': 11}]"
      ]
     },
     "execution_count": 14,
     "metadata": {},
     "output_type": "execute_result"
    }
   ],
   "source": [
    "#Muestro 10 en vez de 1000 porque no es necesario leer un pergamino\n",
    "list(colec.find({'founded_month':{'$gte': 6}},{'name':1,'founded_month':1}))[:10]"
   ]
  },
  {
   "cell_type": "markdown",
   "metadata": {},
   "source": [
    "### 12. All the companies founded before 2000 that have an acquisition amount of more than 10.000.00"
   ]
  },
  {
   "cell_type": "code",
   "execution_count": 15,
   "metadata": {},
   "outputs": [
    {
     "data": {
      "text/plain": [
       "[{'_id': ObjectId('52cdef7c4bab8bd675297d90'),\n",
       "  'name': 'Postini',\n",
       "  'founded_year': 1999,\n",
       "  'acquisition': {'price_amount': 625000000}},\n",
       " {'_id': ObjectId('52cdef7c4bab8bd675297deb'),\n",
       "  'name': 'SideStep',\n",
       "  'founded_year': 1999,\n",
       "  'acquisition': {'price_amount': 180000000}},\n",
       " {'_id': ObjectId('52cdef7c4bab8bd675297e2c'),\n",
       "  'name': 'Recipezaar',\n",
       "  'founded_year': 1999,\n",
       "  'acquisition': {'price_amount': 25000000}},\n",
       " {'_id': ObjectId('52cdef7c4bab8bd675297e89'),\n",
       "  'name': 'PayPal',\n",
       "  'founded_year': 1998,\n",
       "  'acquisition': {'price_amount': 1500000000}},\n",
       " {'_id': ObjectId('52cdef7c4bab8bd675297e97'),\n",
       "  'name': 'Snapfish',\n",
       "  'founded_year': 1999,\n",
       "  'acquisition': {'price_amount': 300000000}}]"
      ]
     },
     "execution_count": 15,
     "metadata": {},
     "output_type": "execute_result"
    }
   ],
   "source": [
    "list(colec.find({'$and':  [{'founded_year': {'$lt': 2000}},\n",
    "                          {'acquisition.price_amount': {'$gt': 1e7}}]},\n",
    "                          {'name':1,'founded_year':1,'acquisition.price_amount':1}))[:5]"
   ]
  },
  {
   "cell_type": "markdown",
   "metadata": {},
   "source": [
    "### 13. All the companies that have been acquired after 2010, order by the acquisition amount, and retrieve only their `name` and `acquisition` field."
   ]
  },
  {
   "cell_type": "code",
   "execution_count": 16,
   "metadata": {},
   "outputs": [
    {
     "data": {
      "text/plain": [
       "[{'_id': ObjectId('52cdef7c4bab8bd675297d91'),\n",
       "  'name': 'Geni',\n",
       "  'acquisition': {'price_amount': None,\n",
       "   'price_currency_code': 'USD',\n",
       "   'term_code': None,\n",
       "   'source_url': 'http://techcrunch.com/2012/11/28/all-in-the-family-myheritage-buys-former-yammer-stablemate-geni-com-raises-25m/',\n",
       "   'source_description': 'MyHeritage acquires Geni and $25M to build family tree of the whole world',\n",
       "   'acquired_year': 2012,\n",
       "   'acquired_month': 11,\n",
       "   'acquired_day': 28,\n",
       "   'acquiring_company': {'name': 'MyHeritage', 'permalink': 'myheritage'}}},\n",
       " {'_id': ObjectId('52cdef7c4bab8bd675297dab'),\n",
       "  'name': 'Kyte',\n",
       "  'acquisition': {'price_amount': None,\n",
       "   'price_currency_code': 'USD',\n",
       "   'term_code': None,\n",
       "   'source_url': 'http://techcrunch.com/2011/01/31/exclusive-kit-digital-acquires-kickapps-kewego-and-kyte-for-77-2-million/',\n",
       "   'source_description': 'KIT digital Acquires KickApps, Kewego AND Kyte For $77.2 Million',\n",
       "   'acquired_year': 2011,\n",
       "   'acquired_month': 1,\n",
       "   'acquired_day': 31,\n",
       "   'acquiring_company': {'name': 'KIT digital', 'permalink': 'kit-digital'}}},\n",
       " {'_id': ObjectId('52cdef7c4bab8bd675297dbf'),\n",
       "  'name': 'blogTV',\n",
       "  'acquisition': {'price_amount': None,\n",
       "   'price_currency_code': 'USD',\n",
       "   'term_code': None,\n",
       "   'source_url': 'http://techcrunch.com/2013/03/13/younow-buys-blogtv/',\n",
       "   'source_description': 'Live Social Video Network YouNow Acquires Streaming Service BlogTV',\n",
       "   'acquired_year': 2013,\n",
       "   'acquired_month': 3,\n",
       "   'acquired_day': 13,\n",
       "   'acquiring_company': {'name': 'YouNow', 'permalink': 'younow'}}},\n",
       " {'_id': ObjectId('52cdef7c4bab8bd675297dc7'),\n",
       "  'name': 'delicious',\n",
       "  'acquisition': {'price_amount': None,\n",
       "   'price_currency_code': 'USD',\n",
       "   'term_code': None,\n",
       "   'source_url': 'http://techcrunch.com/2011/04/27/yahoo-sells-delicious-to-youtube-founders/',\n",
       "   'source_description': 'Yahoo Sells Delicious To YouTube Founders',\n",
       "   'acquired_year': 2011,\n",
       "   'acquired_month': 4,\n",
       "   'acquired_day': 27,\n",
       "   'acquiring_company': {'name': 'AVOS Systems', 'permalink': 'avos'}}},\n",
       " {'_id': ObjectId('52cdef7c4bab8bd675297ddd'),\n",
       "  'name': 'Mashery',\n",
       "  'acquisition': {'price_amount': None,\n",
       "   'price_currency_code': 'USD',\n",
       "   'term_code': None,\n",
       "   'source_url': 'http://allthingsd.com/20130417/intel-acquires-api-manager-mashery/',\n",
       "   'source_description': 'Intel Acquires API Manager Mashery',\n",
       "   'acquired_year': 2013,\n",
       "   'acquired_month': 4,\n",
       "   'acquired_day': 17,\n",
       "   'acquiring_company': {'name': 'Intel', 'permalink': 'intel'}}}]"
      ]
     },
     "execution_count": 16,
     "metadata": {},
     "output_type": "execute_result"
    }
   ],
   "source": [
    "list(colec.find({'acquisition.acquired_year':{'$gt': 2010}},\n",
    "                {'name':1,'acquisition':1}).sort('acquisition.price_amount',1))[:5]"
   ]
  },
  {
   "cell_type": "markdown",
   "metadata": {},
   "source": [
    "### 14. Order the companies by their `founded year`, retrieving only their `name` and `founded year`."
   ]
  },
  {
   "cell_type": "code",
   "execution_count": 17,
   "metadata": {},
   "outputs": [
    {
     "data": {
      "text/plain": [
       "[{'_id': ObjectId('52cdef7c4bab8bd675297fec'),\n",
       "  'name': 'Fixya',\n",
       "  'founded_year': 2013},\n",
       " {'_id': ObjectId('52cdef7c4bab8bd67529801f'),\n",
       "  'name': 'Wamba',\n",
       "  'founded_year': 2013},\n",
       " {'_id': ObjectId('52cdef7c4bab8bd6752982d4'),\n",
       "  'name': 'Advaliant',\n",
       "  'founded_year': 2013},\n",
       " {'_id': ObjectId('52cdef7c4bab8bd67529830a'),\n",
       "  'name': 'Fluc',\n",
       "  'founded_year': 2013},\n",
       " {'_id': ObjectId('52cdef7d4bab8bd675298ea7'),\n",
       "  'name': 'iBazar',\n",
       "  'founded_year': 2013}]"
      ]
     },
     "execution_count": 17,
     "metadata": {},
     "output_type": "execute_result"
    }
   ],
   "source": [
    "list(colec.find({},{'name':1,'founded_year':1}).sort('founded_year',-1))[:5]"
   ]
  },
  {
   "cell_type": "markdown",
   "metadata": {},
   "source": [
    "### 15. All the companies that have been founded on the first seven days of the month, including the seventh. Sort them by their `acquisition price` in a descending order. Limit the search to 10 documents."
   ]
  },
  {
   "cell_type": "code",
   "execution_count": 18,
   "metadata": {},
   "outputs": [
    {
     "data": {
      "text/plain": [
       "[{'_id': ObjectId('52cdef7d4bab8bd6752989a1'),\n",
       "  'name': 'Netscape',\n",
       "  'acquisition': {'price_amount': 4200000000}},\n",
       " {'_id': ObjectId('52cdef7c4bab8bd675297e89'),\n",
       "  'name': 'PayPal',\n",
       "  'acquisition': {'price_amount': 1500000000}},\n",
       " {'_id': ObjectId('52cdef7c4bab8bd675297efe'),\n",
       "  'name': 'Zappos',\n",
       "  'acquisition': {'price_amount': 1200000000}},\n",
       " {'_id': ObjectId('52cdef7c4bab8bd675297f0c'),\n",
       "  'name': 'Alibaba',\n",
       "  'acquisition': {'price_amount': 1000000000}},\n",
       " {'_id': ObjectId('52cdef7c4bab8bd675297d90'),\n",
       "  'name': 'Postini',\n",
       "  'acquisition': {'price_amount': 625000000}},\n",
       " {'_id': ObjectId('52cdef7c4bab8bd67529831c'),\n",
       "  'name': 'Danger',\n",
       "  'acquisition': {'price_amount': 500000000}},\n",
       " {'_id': ObjectId('52cdef7c4bab8bd675298651'),\n",
       "  'name': 'Clearwell Systems',\n",
       "  'acquisition': {'price_amount': 410000000}},\n",
       " {'_id': ObjectId('52cdef7d4bab8bd6752989b8'),\n",
       "  'name': 'PrimeSense',\n",
       "  'acquisition': {'price_amount': 345000000}},\n",
       " {'_id': ObjectId('52cdef7c4bab8bd675298207'),\n",
       "  'name': 'Amobee',\n",
       "  'acquisition': {'price_amount': 321000000}},\n",
       " {'_id': ObjectId('52cdef7c4bab8bd675297ef1'),\n",
       "  'name': 'BlueLithium',\n",
       "  'acquisition': {'price_amount': 300000000}}]"
      ]
     },
     "execution_count": 18,
     "metadata": {},
     "output_type": "execute_result"
    }
   ],
   "source": [
    "list(colec.find({'$and': [{'founded_day': {'$lte': 7}},\n",
    "                          {'founded_day': {'$gte': 1}}]},\n",
    "                            {'name':1,'acquisition.price_amount':1}).sort('acquisition.price_amount',-1))[:10]"
   ]
  },
  {
   "cell_type": "markdown",
   "metadata": {},
   "source": [
    "### 16. All the companies on the 'web' `category` that have more than 4000 employees. Sort them by the amount of employees in ascending order."
   ]
  },
  {
   "cell_type": "code",
   "execution_count": 19,
   "metadata": {},
   "outputs": [
    {
     "data": {
      "text/plain": [
       "[{'_id': ObjectId('52cdef7c4bab8bd675297d93'),\n",
       "  'name': 'Fox Interactive Media',\n",
       "  'number_of_employees': 0},\n",
       " {'_id': ObjectId('52cdef7c4bab8bd675297dec'),\n",
       "  'name': 'coRank',\n",
       "  'number_of_employees': 0},\n",
       " {'_id': ObjectId('52cdef7c4bab8bd675297df7'),\n",
       "  'name': 'Bebo',\n",
       "  'number_of_employees': 0},\n",
       " {'_id': ObjectId('52cdef7c4bab8bd675297e12'),\n",
       "  'name': 'Ticketmaster',\n",
       "  'number_of_employees': 0},\n",
       " {'_id': ObjectId('52cdef7c4bab8bd675297e1b'),\n",
       "  'name': 'Go2Web20',\n",
       "  'number_of_employees': 0}]"
      ]
     },
     "execution_count": 19,
     "metadata": {},
     "output_type": "execute_result"
    }
   ],
   "source": [
    "list(colec.find({'$and': [{'number_of_employees': {'$lt': 2000}},\n",
    "                          {'category_code': 'web'}]},\n",
    "                        {'name':1,'number_of_employees':1}).sort('number_of_employees',1))[:5]"
   ]
  },
  {
   "cell_type": "markdown",
   "metadata": {},
   "source": [
    "### 17. All the companies whose acquisition amount is more than 10.000.000, and currency is 'EUR'."
   ]
  },
  {
   "cell_type": "code",
   "execution_count": 20,
   "metadata": {},
   "outputs": [
    {
     "data": {
      "text/plain": [
       "[{'_id': ObjectId('52cdef7c4bab8bd675297f02'),\n",
       "  'name': 'ZYB',\n",
       "  'acquisition': {'price_amount': 31500000}},\n",
       " {'_id': ObjectId('52cdef7d4bab8bd675298bf3'),\n",
       "  'name': 'Apertio',\n",
       "  'acquisition': {'price_amount': 140000000}},\n",
       " {'_id': ObjectId('52cdef7d4bab8bd675298f47'),\n",
       "  'name': 'Greenfield Online',\n",
       "  'acquisition': {'price_amount': 40000000}},\n",
       " {'_id': ObjectId('52cdef7e4bab8bd67529a536'),\n",
       "  'name': 'Webedia',\n",
       "  'acquisition': {'price_amount': 70000000}},\n",
       " {'_id': ObjectId('52cdef7e4bab8bd67529a729'),\n",
       "  'name': 'Wayfinder',\n",
       "  'acquisition': {'price_amount': 24000000}}]"
      ]
     },
     "execution_count": 20,
     "metadata": {},
     "output_type": "execute_result"
    }
   ],
   "source": [
    "list(colec.find({'$and': [{'acquisition.price_amount': {'$gt': 1e7}},\n",
    "                          {'acquisition.price_currency_code': 'EUR'}]},\n",
    "                        {'name':1,'acquisition.price_amount':1}))[:5]"
   ]
  },
  {
   "cell_type": "markdown",
   "metadata": {},
   "source": [
    "### 18. All the companies that have been acquired on the first trimester of the year. Limit the search to 10 companies, and retrieve only their `name` and `acquisition` fields."
   ]
  },
  {
   "cell_type": "code",
   "execution_count": 21,
   "metadata": {},
   "outputs": [
    {
     "data": {
      "text/plain": [
       "[{'_id': ObjectId('52cdef7c4bab8bd675297dab'),\n",
       "  'name': 'Kyte',\n",
       "  'acquisition': {'price_amount': None,\n",
       "   'price_currency_code': 'USD',\n",
       "   'term_code': None,\n",
       "   'source_url': 'http://techcrunch.com/2011/01/31/exclusive-kit-digital-acquires-kickapps-kewego-and-kyte-for-77-2-million/',\n",
       "   'source_description': 'KIT digital Acquires KickApps, Kewego AND Kyte For $77.2 Million',\n",
       "   'acquired_year': 2011,\n",
       "   'acquired_month': 1,\n",
       "   'acquired_day': 31,\n",
       "   'acquiring_company': {'name': 'KIT digital', 'permalink': 'kit-digital'}}},\n",
       " {'_id': ObjectId('52cdef7c4bab8bd675297db4'),\n",
       "  'name': 'NetRatings',\n",
       "  'acquisition': {'price_amount': 327000000,\n",
       "   'price_currency_code': 'USD',\n",
       "   'term_code': 'cash',\n",
       "   'source_url': 'http://login.vnuemedia.com/hr/login/login_subscribe.jsp?id=0oqDem1gYIfIclz9i2%2Ffqj5NxCp2AC5DPbVnyT2da8GyV2mXjasabE128n69OrmcAh52%2FGE3pSG%2F%0AEKRYD9vh9EhrJrxukmUzh532fSMTZXL42gwPB80UWVtF1NwJ5UZSM%2BCkLU1mpYBoHFgiH%2Fi0f6Ax%0A9yMIVxt47t%2BHamhEQ0nkOEK24L',\n",
       "   'source_description': 'Nielsen buys rest of NetRatings',\n",
       "   'acquired_year': 2007,\n",
       "   'acquired_month': 2,\n",
       "   'acquired_day': None,\n",
       "   'acquiring_company': {'name': 'Nielsen', 'permalink': 'nielsen'}}},\n",
       " {'_id': ObjectId('52cdef7c4bab8bd675297dbf'),\n",
       "  'name': 'blogTV',\n",
       "  'acquisition': {'price_amount': None,\n",
       "   'price_currency_code': 'USD',\n",
       "   'term_code': None,\n",
       "   'source_url': 'http://techcrunch.com/2013/03/13/younow-buys-blogtv/',\n",
       "   'source_description': 'Live Social Video Network YouNow Acquires Streaming Service BlogTV',\n",
       "   'acquired_year': 2013,\n",
       "   'acquired_month': 3,\n",
       "   'acquired_day': 13,\n",
       "   'acquiring_company': {'name': 'YouNow', 'permalink': 'younow'}}},\n",
       " {'_id': ObjectId('52cdef7c4bab8bd675297dc0'),\n",
       "  'name': 'Livestream',\n",
       "  'acquisition': {'price_amount': None,\n",
       "   'price_currency_code': 'USD',\n",
       "   'term_code': 'cash_and_stock',\n",
       "   'source_url': '',\n",
       "   'source_description': 'company',\n",
       "   'acquired_year': 2008,\n",
       "   'acquired_month': 1,\n",
       "   'acquired_day': 1,\n",
       "   'acquiring_company': {'name': 'Adviqo', 'permalink': 'adviqo'}}},\n",
       " {'_id': ObjectId('52cdef7c4bab8bd675297dda'),\n",
       "  'name': 'iContact',\n",
       "  'acquisition': {'price_amount': 169000000,\n",
       "   'price_currency_code': 'USD',\n",
       "   'term_code': 'cash_and_stock',\n",
       "   'source_url': 'http://techcrunch.com/2012/02/28/vocus-buys-email-marketing-company-icontact-for-169-million/',\n",
       "   'source_description': 'Vocus Buys Email Marketing Company iContact For $169 Million',\n",
       "   'acquired_year': 2012,\n",
       "   'acquired_month': 2,\n",
       "   'acquired_day': 28,\n",
       "   'acquiring_company': {'name': 'Vocus', 'permalink': 'vocus'}}},\n",
       " {'_id': ObjectId('52cdef7c4bab8bd675297de8'),\n",
       "  'name': 'Coghead',\n",
       "  'acquisition': {'price_amount': None,\n",
       "   'price_currency_code': 'USD',\n",
       "   'term_code': None,\n",
       "   'source_url': 'http://www.techcrunch.com/2009/02/19/sap-acquires-cogheads-technology-as-it-looks-towards-the-cloud/',\n",
       "   'source_description': 'SAP Acquires Cogheadâ€™s Technology As It Looks Towards The Cloud',\n",
       "   'acquired_year': 2009,\n",
       "   'acquired_month': 2,\n",
       "   'acquired_day': 19,\n",
       "   'acquiring_company': {'name': 'SAP', 'permalink': 'sap'}}},\n",
       " {'_id': ObjectId('52cdef7c4bab8bd675297dee'),\n",
       "  'name': 'Dailymotion',\n",
       "  'acquisition': {'price_amount': 168000000,\n",
       "   'price_currency_code': 'USD',\n",
       "   'term_code': None,\n",
       "   'source_url': 'http://techcrunch.com/2013/02/22/orange-acquired-dailymotion-for-168-million-by-buying-out-the-remaining-51-stake/',\n",
       "   'source_description': 'Orange Acquired Dailymotion For $168 Million By Buying Out Remaining 51% Stake [Update: Orange Confirms]',\n",
       "   'acquired_year': 2013,\n",
       "   'acquired_month': 2,\n",
       "   'acquired_day': 22,\n",
       "   'acquiring_company': {'name': 'Orange', 'permalink': 'orange'}}},\n",
       " {'_id': ObjectId('52cdef7c4bab8bd675297df4'),\n",
       "  'name': 'Netvibes',\n",
       "  'acquisition': {'price_amount': None,\n",
       "   'price_currency_code': 'USD',\n",
       "   'term_code': None,\n",
       "   'source_url': 'http://www.marketwatch.com/story/dassault-systemes-acquires-netvibes-2012-02-09',\n",
       "   'source_description': 'Dassault Systemes Acquires Netvibes',\n",
       "   'acquired_year': 2012,\n",
       "   'acquired_month': 2,\n",
       "   'acquired_day': 9,\n",
       "   'acquiring_company': {'name': 'Dassault Systemes',\n",
       "    'permalink': 'dassault'}}},\n",
       " {'_id': ObjectId('52cdef7c4bab8bd675297df8'),\n",
       "  'name': 'Flickr',\n",
       "  'acquisition': {'price_amount': None,\n",
       "   'price_currency_code': 'USD',\n",
       "   'term_code': 'cash_and_stock',\n",
       "   'source_url': 'http://news.cnet.com/Yahoo-buys-photo-sharing-site-Flickr/2100-1038_3-5627640.html?tag=mncol;txt',\n",
       "   'source_description': 'CNET',\n",
       "   'acquired_year': 2005,\n",
       "   'acquired_month': 3,\n",
       "   'acquired_day': None,\n",
       "   'acquiring_company': {'name': 'Yahoo!', 'permalink': 'yahoo'}}},\n",
       " {'_id': ObjectId('52cdef7c4bab8bd675297df9'),\n",
       "  'name': 'BabyCenter',\n",
       "  'acquisition': {'price_amount': None,\n",
       "   'price_currency_code': 'USD',\n",
       "   'term_code': None,\n",
       "   'source_url': 'http://www.investor.jnj.com/releasedetail.cfm?releaseid=63836',\n",
       "   'source_description': 'Johnson & Johnson Acquires BabyCenter From eToys, Inc. Leading Online Destination for Parents Plans for Continued Expansion of Operations',\n",
       "   'acquired_year': 2001,\n",
       "   'acquired_month': 3,\n",
       "   'acquired_day': 2,\n",
       "   'acquiring_company': {'name': 'Johnson & Johnson',\n",
       "    'permalink': 'johnson-johnson'}}}]"
      ]
     },
     "execution_count": 21,
     "metadata": {},
     "output_type": "execute_result"
    }
   ],
   "source": [
    "list(colec.find({'$and': [{'acquisition.acquired_month': {'$gte': 1}},\n",
    "                          {'acquisition.acquired_month': {'$lte': 3}}]},\n",
    "                        {'name':1,'acquisition':1}))[:10]"
   ]
  },
  {
   "cell_type": "markdown",
   "metadata": {},
   "source": [
    "# Bonus\n",
    "### 19. All the companies that have been founded between 2000 and 2010, but have not been acquired before 2011."
   ]
  },
  {
   "cell_type": "code",
   "execution_count": 22,
   "metadata": {},
   "outputs": [
    {
     "data": {
      "text/plain": [
       "[{'_id': ObjectId('52cdef7c4bab8bd675297d8a'),\n",
       "  'name': 'Wetpaint',\n",
       "  'founded_year': 2005,\n",
       "  'acquisition': {'acquired_year': 2013}},\n",
       " {'_id': ObjectId('52cdef7c4bab8bd675297d8d'),\n",
       "  'name': 'Digg',\n",
       "  'founded_year': 2004,\n",
       "  'acquisition': {'acquired_year': 2012}},\n",
       " {'_id': ObjectId('52cdef7c4bab8bd675297d91'),\n",
       "  'name': 'Geni',\n",
       "  'founded_year': 2006,\n",
       "  'acquisition': {'acquired_year': 2012}},\n",
       " {'_id': ObjectId('52cdef7c4bab8bd675297dbf'),\n",
       "  'name': 'blogTV',\n",
       "  'founded_year': 2006,\n",
       "  'acquisition': {'acquired_year': 2013}},\n",
       " {'_id': ObjectId('52cdef7c4bab8bd675297dcb'),\n",
       "  'name': 'Revision3',\n",
       "  'founded_year': 2005,\n",
       "  'acquisition': {'acquired_year': 2012}}]"
      ]
     },
     "execution_count": 22,
     "metadata": {},
     "output_type": "execute_result"
    }
   ],
   "source": [
    "list(colec.find({'$and': [{'founded_year': {'$gte': 2000}},\n",
    "                        {'founded_year': {'$lte': 2010}},\n",
    "                        {'acquisition.acquired_year': {'$gt': 2011}}]},\n",
    "                        {'name':1,'founded_year':1,'acquisition.acquired_year':1}))[:5]"
   ]
  },
  {
   "cell_type": "markdown",
   "metadata": {},
   "source": [
    "### 20. All the companies that have been 'deadpooled' after the third year."
   ]
  },
  {
   "cell_type": "code",
   "execution_count": 24,
   "metadata": {},
   "outputs": [
    {
     "data": {
      "text/plain": [
       "[]"
      ]
     },
     "execution_count": 24,
     "metadata": {},
     "output_type": "execute_result"
    }
   ],
   "source": [
    "list(colec.find({'deadpooled_year': {'$gt':{'$sum': [3,'founded_year']}}},\n",
    "                {'name':1,'deadpooled_year':1}))[:10]"
   ]
  }
 ],
 "metadata": {
  "kernelspec": {
   "display_name": "Python 3 (ipykernel)",
   "language": "python",
   "name": "python3"
  },
  "language_info": {
   "codemirror_mode": {
    "name": "ipython",
    "version": 3
   },
   "file_extension": ".py",
   "mimetype": "text/x-python",
   "name": "python",
   "nbconvert_exporter": "python",
   "pygments_lexer": "ipython3",
   "version": "3.8.0"
  }
 },
 "nbformat": 4,
 "nbformat_minor": 2
}
