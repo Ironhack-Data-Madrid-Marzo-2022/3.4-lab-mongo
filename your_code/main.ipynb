{
 "cells": [
  {
   "cell_type": "markdown",
   "metadata": {},
   "source": [
    "# Advanced Querying Mongo"
   ]
  },
  {
   "cell_type": "markdown",
   "metadata": {},
   "source": [
    "Importing libraries and setting up connection"
   ]
  },
  {
   "cell_type": "code",
   "execution_count": 18,
   "metadata": {},
   "outputs": [
    {
     "name": "stdout",
     "output_type": "stream",
     "text": [
      "Requirement already satisfied: pymongo in c:\\users\\alima\\anaconda3\\lib\\site-packages (4.1.0)\n",
      "Note: you may need to restart the kernel to use updated packages.\n"
     ]
    }
   ],
   "source": [
    "%pip install pymongo"
   ]
  },
  {
   "cell_type": "code",
   "execution_count": 27,
   "metadata": {},
   "outputs": [],
   "source": [
    "\n",
    "\n",
    "from pymongo import MongoClient\n",
    "cliente = MongoClient()\n",
    "cliente.list_database_names() \n",
    "db=cliente.companies\n",
    "colec=db.companies"
   ]
  },
  {
   "cell_type": "code",
   "execution_count": 87,
   "metadata": {},
   "outputs": [
    {
     "data": {
      "text/plain": [
       "[{'_id': ObjectId('52cdef7c4bab8bd675297da0'),\n",
       "  'name': 'Babelgum',\n",
       "  'permalink': 'babelgum',\n",
       "  'crunchbase_url': 'http://www.crunchbase.com/company/babelgum',\n",
       "  'homepage_url': 'http://babelgum.com',\n",
       "  'blog_url': 'http://babelgum.com/blog',\n",
       "  'blog_feed_url': 'http://feeds.feedburner.com/Babelgum',\n",
       "  'twitter_username': 'Babelgum',\n",
       "  'category_code': 'games_video',\n",
       "  'number_of_employees': None,\n",
       "  'founded_year': 2007,\n",
       "  'founded_month': 3,\n",
       "  'founded_day': 1,\n",
       "  'deadpooled_year': 2013,\n",
       "  'deadpooled_month': 1,\n",
       "  'deadpooled_day': 9,\n",
       "  'deadpooled_url': '',\n",
       "  'tag_list': 'iptv, web2ireland',\n",
       "  'alias_list': '',\n",
       "  'email_address': 'info@babelgum.com',\n",
       "  'phone_number': '',\n",
       "  'description': '',\n",
       "  'created_at': 'Sat Jun 09 08:15:21 UTC 2007',\n",
       "  'updated_at': 'Wed Oct 16 06:30:25 UTC 2013',\n",
       "  'overview': '<p>Babelgum is an integrated web and mobile video content platform, free for users and supported by advertising, available on-demand to a global audience.</p>\\n\\n<p>On March 20th 2009 Babelgum released a U.S. version of its mobile video application for iPhone and iPod Touch (previously available in Italy and the UK) and simultaneously launched a redesigned website (www.babelgum.com) with a Flash-based player, offering one of the first fully integrated video mobile and web user experiences.</p>\\n\\n<p>Babelgum Mobile is currently available in the United States, UK, Italy, Germany, France and Spain and over 50 other countries across the globe on iPhone 3G, iPod Touch, Google Android G-Phones 1 and 2, Nokia (N96, N95 and 6210) via 3G and WiFi.</p>\\n\\n<p>Babelgum is an independent and privately held company with offices in the United States, UK, Ireland, France and Italy.</p>\\n\\n<p>TRAFFIC FIGURES</p>\\n\\n<p>In July 2009 Babelgum recorded on its website over 2 million monthly unique users worldwide â€“ 1.7 million in the US alone (Source: comScore). Over 2 million people have downloaded the Babelgum mobile applications and watched videos on them.</p>\\n\\n<p>DEVELOPMENT STRATEGY</p>\\n\\n<p>In Europe, Babelgum made a strategic agreement with Vodafone to launch a mobile service that allows users to watch videos for free also over 3G networks (Vodafone supports marketing campaigns through SMS and other PR activities targeting their Customer Base). Babelgum is also seeking selected strategic partnerships in the United States.</p>\\n\\n<p>BABELGUMâ€™S EDITORIAL APPROACH TO CONTENT</p>\\n\\n<p>Positioned between user generated video hubs and network TV-oriented destinations, Babelgum has a unique editorial approach which focuses on the third part of the ecosystem: innovative, professionally produced content on very specific passions curated by experts in their fields. </p>\\n\\n<p>The editorial team is driven by professional publishers who scout and select programming for the following channels: Music, Comedy, Film, Our Earth (dedicated to nature and the environment) and Metropolis (all about urban culture and trends). </p>\\n\\n<p>The mobile and web platforms are integrated functionally and graphically and complement each other, although mobile programming is more carefully tailored to local markets, based on research into national tastes and viewing habits. </p>\\n\\n<p>Babelgumâ€™s content comprises independent and mainstream programming as well as exclusive original productions.</p>\\n\\n<p>LIST OF MAIN CONTENT PROVIDERS:</p>\\n\\n<p>Babelgumâ€™s content partners include, among others, EMI, Sony BMG, the New York Times, PBS, BBC, VBS, Lonely Planet, Coolhunting, National Geographic, Funny or Die, T5M, Shine Limited, Cinetic Rights Management, Content Republic, Gong Anime, The Workbook Project, Cinelan, Power to the Pixel and Off the Fence as well as the Seattle, Encounters, Los Angeles, and Hamptons film festivals.</p>\\n\\n<p>ONLINE VIDEO COMPETITIONS:</p>\\n\\n<p>The company has also set up a series of online contests to nurture independent film, music and art talent: the Babelgum Online Film Festival, the Babelgum Music Video Awards and the Babelgum Metropolis Art Prize chaired respectively by Spike Lee, Michel Gondry and Isabella Rossellini.</p>',\n",
       "  'image': {'available_sizes': [[[135, 102],\n",
       "     'assets/images/resized/0006/7738/67738v2-max-150x150.png'],\n",
       "    [[135, 102], 'assets/images/resized/0006/7738/67738v2-max-250x250.png'],\n",
       "    [[135, 102], 'assets/images/resized/0006/7738/67738v2-max-450x450.png']],\n",
       "   'attribution': None},\n",
       "  'products': [{'name': 'Babelgum', 'permalink': 'babelgum'}],\n",
       "  'relationships': [{'is_past': False,\n",
       "    'title': 'CEO',\n",
       "    'person': {'first_name': 'Valerio',\n",
       "     'last_name': 'Zingarelli',\n",
       "     'permalink': 'valerio-zingarelli'}},\n",
       "   {'is_past': True,\n",
       "    'title': 'CTO',\n",
       "    'person': {'first_name': 'Mallku',\n",
       "     'last_name': 'Caballero',\n",
       "     'permalink': 'mallku-caballero'}},\n",
       "   {'is_past': True,\n",
       "    'title': '',\n",
       "    'person': {'first_name': 'Michael',\n",
       "     'last_name': \"O'Callaghan\",\n",
       "     'permalink': 'michael-o-callaghan'}},\n",
       "   {'is_past': True,\n",
       "    'title': '',\n",
       "    'person': {'first_name': 'Erik',\n",
       "     'last_name': 'Lumer',\n",
       "     'permalink': 'erik-lumer'}},\n",
       "   {'is_past': True,\n",
       "    'title': 'Engineering Director',\n",
       "    'person': {'first_name': 'Mark',\n",
       "     'last_name': 'Kearns',\n",
       "     'permalink': 'mark-kearns'}}],\n",
       "  'competitions': [{'competitor': {'name': 'Joost', 'permalink': 'joost'}},\n",
       "   {'competitor': {'name': 'Zattoo', 'permalink': 'zattoo'}},\n",
       "   {'competitor': {'name': 'Veoh', 'permalink': 'veoh'}},\n",
       "   {'competitor': {'name': 'Vudu', 'permalink': 'vudu'}},\n",
       "   {'competitor': {'name': 'Inuk Networks', 'permalink': 'inuk-networks'}},\n",
       "   {'competitor': {'name': 'Participatory Culture Foundation',\n",
       "     'permalink': 'participatory-culture-foundation'}},\n",
       "   {'competitor': {'name': 'Next New Networks',\n",
       "     'permalink': 'next-new-networks'}}],\n",
       "  'providerships': [],\n",
       "  'total_money_raised': '$13.2M',\n",
       "  'funding_rounds': [{'id': 17,\n",
       "    'round_code': 'a',\n",
       "    'source_url': 'http://www.redherring.com/Article.aspx?a=21800&hed=Battle+of+the+Billionaires&sector=Regions&subsector=Europe',\n",
       "    'source_description': '',\n",
       "    'raised_amount': 13200000,\n",
       "    'raised_currency_code': 'USD',\n",
       "    'funded_year': 2005,\n",
       "    'funded_month': 6,\n",
       "    'funded_day': 1,\n",
       "    'investments': [{'company': None,\n",
       "      'financial_org': None,\n",
       "      'person': {'first_name': 'Silvio',\n",
       "       'last_name': 'Scaglia',\n",
       "       'permalink': 'silvio-scaglia'}}]}],\n",
       "  'investments': [],\n",
       "  'acquisition': None,\n",
       "  'acquisitions': [],\n",
       "  'offices': [{'description': '',\n",
       "    'address1': '',\n",
       "    'address2': '',\n",
       "    'zip_code': '',\n",
       "    'city': 'London',\n",
       "    'state_code': None,\n",
       "    'country_code': 'GBR',\n",
       "    'latitude': 53.344104,\n",
       "    'longitude': -6.267494}],\n",
       "  'milestones': [],\n",
       "  'ipo': None,\n",
       "  'video_embeds': [],\n",
       "  'screenshots': [],\n",
       "  'external_links': [],\n",
       "  'partners': []}]"
      ]
     },
     "execution_count": 87,
     "metadata": {},
     "output_type": "execute_result"
    }
   ],
   "source": [
    "list(colec.find({'name':'Babelgum'}))"
   ]
  },
  {
   "cell_type": "markdown",
   "metadata": {},
   "source": [
    "### 1. All the companies whose name match 'Babelgum'. Retrieve only their `name` field."
   ]
  },
  {
   "cell_type": "code",
   "execution_count": 36,
   "metadata": {},
   "outputs": [
    {
     "data": {
      "text/plain": [
       "[{'_id': ObjectId('52cdef7c4bab8bd675297da0'), 'name': 'Babelgum'}]"
      ]
     },
     "execution_count": 36,
     "metadata": {},
     "output_type": "execute_result"
    }
   ],
   "source": [
    "list(colec.find({'name':'Babelgum'},{'name':1}))"
   ]
  },
  {
   "cell_type": "markdown",
   "metadata": {},
   "source": [
    "### 2. All the companies that have more than 5000 employees. Limit the search to 20 companies and sort them by **number of employees**."
   ]
  },
  {
   "cell_type": "code",
   "execution_count": 63,
   "metadata": {},
   "outputs": [
    {
     "data": {
      "text/plain": [
       "[{'name': 'NetApp', 'number_of_employees': 8000},\n",
       " {'name': 'The Walt Disney Company', 'number_of_employees': 25000},\n",
       " {'name': 'Google', 'number_of_employees': 28000},\n",
       " {'name': 'Microsoft', 'number_of_employees': 90000},\n",
       " {'name': 'Webkinz', 'number_of_employees': 8657},\n",
       " {'name': 'Sony', 'number_of_employees': 180500},\n",
       " {'name': 'Motorola Solutions', 'number_of_employees': 51000},\n",
       " {'name': 'eBay', 'number_of_employees': 15000},\n",
       " {'name': 'AOL', 'number_of_employees': 8000},\n",
       " {'name': 'Intel', 'number_of_employees': 86300},\n",
       " {'name': 'Rakuten', 'number_of_employees': 10000},\n",
       " {'name': 'Sun Microsystems', 'number_of_employees': 33350},\n",
       " {'name': 'Adobe Systems', 'number_of_employees': 7173},\n",
       " {'name': 'Apple', 'number_of_employees': 80000},\n",
       " {'name': 'Yahoo!', 'number_of_employees': 13600},\n",
       " {'name': 'PayPal', 'number_of_employees': 300000},\n",
       " {'name': 'Facebook', 'number_of_employees': 5299},\n",
       " {'name': 'Cisco', 'number_of_employees': 63000},\n",
       " {'name': 'Nintendo', 'number_of_employees': 5080},\n",
       " {'name': 'Nokia', 'number_of_employees': 125000}]"
      ]
     },
     "execution_count": 63,
     "metadata": {},
     "output_type": "execute_result"
    }
   ],
   "source": [
    "list(colec.find({'number_of_employees':{'$gte':5000}},\n",
    "                          \n",
    "               \n",
    "               {'_id': 0, 'name': 1, 'number_of_employees': 1 }\n",
    "                \n",
    "               ).sort('number_of employees', -1).limit(20))"
   ]
  },
  {
   "cell_type": "markdown",
   "metadata": {},
   "source": [
    "### 3. All the companies founded between 2000 and 2005, both years included. Retrieve only the `name` and `founded_year` fields."
   ]
  },
  {
   "cell_type": "code",
   "execution_count": 86,
   "metadata": {},
   "outputs": [
    {
     "data": {
      "text/plain": [
       "[{'name': 'Wetpaint', 'founded_year': 2005},\n",
       " {'name': 'Zoho', 'founded_year': 2005},\n",
       " {'name': 'Digg', 'founded_year': 2004}]"
      ]
     },
     "execution_count": 86,
     "metadata": {},
     "output_type": "execute_result"
    }
   ],
   "source": [
    "list(colec.find({'$and': [{'founded_year': {'$gte':2000}},\n",
    "                            {'founded_year': {'$lte': 2005}}]},\n",
    "                {'_id': 0, 'name': 1,  'founded_year': 1}\n",
    "               ).limit(3))"
   ]
  },
  {
   "cell_type": "markdown",
   "metadata": {},
   "source": [
    "### 4. All the companies that had a Valuation Amount of more than 100.000.000 and have been founded before 2010. Retrieve only the `name` and `ipo` fields."
   ]
  },
  {
   "cell_type": "code",
   "execution_count": 117,
   "metadata": {},
   "outputs": [
    {
     "data": {
      "text/plain": [
       "[{'name': 'Facebook', 'ipo': {'valuation_amount': 104000000000}},\n",
       " {'name': 'Twitter', 'ipo': {'valuation_amount': 18100000000}},\n",
       " {'name': 'Yelp', 'ipo': {'valuation_amount': 1300000000}},\n",
       " {'name': 'LinkedIn', 'ipo': {'valuation_amount': 9310000000}},\n",
       " {'name': 'Amazon', 'ipo': {'valuation_amount': 100000000000}}]"
      ]
     },
     "execution_count": 117,
     "metadata": {},
     "output_type": "execute_result"
    }
   ],
   "source": [
    "#list(colec.find({'$and': [{'founded_year': {'$lte':2010}},\n",
    "                         # 3{'ipo.valuation_amount': {'$gte': 100000000}}]},\n",
    "                #{'id':0, 'name':1, 'ipo.valuation_amount':1}\n",
    "\n",
    "              # ))\n",
    "list(colec.find({'$and': [{'ipo.valuation_amount': {'$gte': 100000000}},\n",
    "                          {'founded_year': {'$lte': 2010}}]},               {'_id': 0, 'name': 1, 'ipo.valuation_amount': 1}               ).limit(5))           \n",
    "    "
   ]
  },
  {
   "cell_type": "code",
   "execution_count": 100,
   "metadata": {},
   "outputs": [
    {
     "data": {
      "text/plain": [
       "[{'name': 'Facebook',\n",
       "  'ipo': {'valuation_amount': 104000000000,\n",
       "   'valuation_currency_code': 'USD',\n",
       "   'pub_year': 2012,\n",
       "   'pub_month': 5,\n",
       "   'pub_day': 18,\n",
       "   'stock_symbol': 'NASDAQ:FB'}},\n",
       " {'name': 'Twitter',\n",
       "  'ipo': {'valuation_amount': 18100000000,\n",
       "   'valuation_currency_code': 'USD',\n",
       "   'pub_year': 2013,\n",
       "   'pub_month': 11,\n",
       "   'pub_day': 7,\n",
       "   'stock_symbol': 'NYSE:TWTR'}},\n",
       " {'name': 'Yelp',\n",
       "  'ipo': {'valuation_amount': 1300000000,\n",
       "   'valuation_currency_code': 'USD',\n",
       "   'pub_year': 2012,\n",
       "   'pub_month': 3,\n",
       "   'pub_day': 2,\n",
       "   'stock_symbol': 'NYSE:YELP'}}]"
      ]
     },
     "execution_count": 100,
     "metadata": {},
     "output_type": "execute_result"
    }
   ],
   "source": [
    "query4 = {\"founded_year\":{\"$lt\":2011}, \"ipo.valuation_amount\":{\"$gt\":100000000}}\n",
    "project = {\"name\":1 , \"ipo\":1, \"_id\":0}\n",
    "result = db[\"companies\"].find(query4,project)\n",
    "list(result)[:3]"
   ]
  },
  {
   "cell_type": "markdown",
   "metadata": {},
   "source": [
    "### 5. All the companies that have less than 1000 employees and have been founded before 2005. Order them by the number of employees and limit the search to 10 companies."
   ]
  },
  {
   "cell_type": "code",
   "execution_count": 113,
   "metadata": {},
   "outputs": [
    {
     "data": {
      "text/plain": [
       "[{'name': 'AdventNet', 'number_of_employees': 600},\n",
       " {'name': 'Digg', 'number_of_employees': 60},\n",
       " {'name': 'Fox Interactive Media', 'number_of_employees': 0},\n",
       " {'name': 'Plaxo', 'number_of_employees': 50},\n",
       " {'name': 'Technorati', 'number_of_employees': 35},\n",
       " {'name': 'AddThis', 'number_of_employees': 120},\n",
       " {'name': 'Meetup', 'number_of_employees': 75},\n",
       " {'name': 'SmugMug', 'number_of_employees': 62},\n",
       " {'name': 'Skype', 'number_of_employees': 0},\n",
       " {'name': 'Pando Networks', 'number_of_employees': 23}]"
      ]
     },
     "execution_count": 113,
     "metadata": {},
     "output_type": "execute_result"
    }
   ],
   "source": [
    "query5 = {\"founded_year\":{\"$lt\":2005}, \"number_of_employees\":{\"$lt\":1000}}\n",
    "project = {\"name\":1 , \"number_of_employees\":1, \"_id\":0}\n",
    "result = db[\"companies\"].find(query5,project)\n",
    "list(result)[:10]"
   ]
  },
  {
   "cell_type": "markdown",
   "metadata": {},
   "source": [
    "### 6. All the companies that don't include the `partners` field."
   ]
  },
  {
   "cell_type": "code",
   "execution_count": 121,
   "metadata": {},
   "outputs": [
    {
     "data": {
      "text/plain": [
       "[{'name': 'Wetpaint'}, {'name': 'AdventNet'}, {'name': 'Zoho'}]"
      ]
     },
     "execution_count": 121,
     "metadata": {},
     "output_type": "execute_result"
    }
   ],
   "source": [
    "list(colec.find({'partners':{'$exists': 'null'}}, {'_id':0, 'name':1}).limit(3))"
   ]
  },
  {
   "cell_type": "markdown",
   "metadata": {},
   "source": [
    "### 7. All the companies that have a null type of value on the `category_code` field."
   ]
  },
  {
   "cell_type": "code",
   "execution_count": 122,
   "metadata": {},
   "outputs": [
    {
     "data": {
      "text/plain": [
       "[{'name': 'Wetpaint'}, {'name': 'AdventNet'}, {'name': 'Zoho'}]"
      ]
     },
     "execution_count": 122,
     "metadata": {},
     "output_type": "execute_result"
    }
   ],
   "source": [
    "list(colec.find({'category_code':{'$exists': 'null'}}, {'_id':0, 'name':1}).limit(3))"
   ]
  },
  {
   "cell_type": "markdown",
   "metadata": {},
   "source": [
    "### 8. All the companies that have at least 100 employees but less than 1000. Retrieve only the `name` and `number of employees` fields."
   ]
  },
  {
   "cell_type": "code",
   "execution_count": 123,
   "metadata": {},
   "outputs": [
    {
     "data": {
      "text/plain": [
       "[{'name': 'AdventNet', 'number_of_employees': 600},\n",
       " {'name': 'AddThis', 'number_of_employees': 120},\n",
       " {'name': 'OpenX', 'number_of_employees': 305},\n",
       " {'name': 'LifeLock', 'number_of_employees': 644},\n",
       " {'name': 'Jajah', 'number_of_employees': 110}]"
      ]
     },
     "execution_count": 123,
     "metadata": {},
     "output_type": "execute_result"
    }
   ],
   "source": [
    "list(colec.find({'$and': [{'number_of_employees': {'$gte': 100}},\n",
    "                          {'number_of_employees': {'$lt': 1000}}]},               {'_id': 0, 'name': 1, 'number_of_employees': 1}               ).limit(5))           \n",
    "    "
   ]
  },
  {
   "cell_type": "markdown",
   "metadata": {},
   "source": [
    "### 9. Order all the companies by their IPO price in a descending order."
   ]
  },
  {
   "cell_type": "code",
   "execution_count": 133,
   "metadata": {},
   "outputs": [
    {
     "data": {
      "text/plain": [
       "[{'name': 'DeNA', 'ipo': {'valuation_amount': 117900}},\n",
       " {'name': 'DeNA', 'ipo': {'valuation_amount': 117900}},\n",
       " {'name': 'GT Solar', 'ipo': {'valuation_amount': 5000000}},\n",
       " {'name': 'Vringo', 'ipo': {'valuation_amount': 11003200}},\n",
       " {'name': 'Energy and Power Solutions', 'ipo': {'valuation_amount': 25000000}}]"
      ]
     },
     "execution_count": 133,
     "metadata": {},
     "output_type": "execute_result"
    }
   ],
   "source": [
    "list(colec.find({'ipo.valuation_amount':{'$gt':0}},{'_id': 0, 'name': 1, 'ipo.valuation_amount': 1}).sort('ipo.valuation_amount').limit(5))           "
   ]
  },
  {
   "cell_type": "markdown",
   "metadata": {},
   "source": [
    "### 10. Retrieve the 10 companies with more employees, order by the `number of employees`"
   ]
  },
  {
   "cell_type": "code",
   "execution_count": 132,
   "metadata": {},
   "outputs": [
    {
     "data": {
      "text/plain": [
       "[{'name': 'eBay', 'ipo': {'valuation_amount': None}},\n",
       " {'name': 'MeetMoi'},\n",
       " {'name': 'Facebook', 'ipo': {'valuation_amount': 104000000000}},\n",
       " {'name': 'Scribd'},\n",
       " {'name': 'Geni'},\n",
       " {'name': 'Digg'},\n",
       " {'name': 'AdventNet'},\n",
       " {'name': 'Wetpaint'},\n",
       " {'name': 'Zoho'},\n",
       " {'name': 'Twitter', 'ipo': {'valuation_amount': 18100000000}}]"
      ]
     },
     "execution_count": 132,
     "metadata": {},
     "output_type": "execute_result"
    }
   ],
   "source": [
    "list(colec.find({'number_of_employees': {'$gt': 0}},\n",
    "                {'_id': 0, 'name': 1, 'ipo.valuation_amount': 1}).sort('number_of_employees, -1').limit(10))           "
   ]
  },
  {
   "cell_type": "markdown",
   "metadata": {},
   "source": [
    "### 11. All the companies founded on the second semester of the year. Limit your search to 1000 companies."
   ]
  },
  {
   "cell_type": "code",
   "execution_count": 137,
   "metadata": {},
   "outputs": [
    {
     "data": {
      "text/plain": [
       "[{'name': 'Wetpaint', 'founded_month': 10},\n",
       " {'name': 'Zoho', 'founded_month': 9},\n",
       " {'name': 'Digg', 'founded_month': 10},\n",
       " {'name': 'Omnidrive', 'founded_month': 11}]"
      ]
     },
     "execution_count": 137,
     "metadata": {},
     "output_type": "execute_result"
    }
   ],
   "source": [
    "list(colec.find({'founded_month': {'$gt': 6}},\n",
    "                {'_id': 0, 'name': 1, 'founded_month': 1}).limit(4))"
   ]
  },
  {
   "cell_type": "markdown",
   "metadata": {},
   "source": [
    "### 12. All the companies founded before 2000 that have an acquisition amount of more than 10.000.00"
   ]
  },
  {
   "cell_type": "code",
   "execution_count": 139,
   "metadata": {},
   "outputs": [
    {
     "data": {
      "text/plain": [
       "[{'name': 'Postini',\n",
       "  'founded_year': 1999,\n",
       "  'acquisition': {'price_amount': 625000000}},\n",
       " {'name': 'SideStep',\n",
       "  'founded_year': 1999,\n",
       "  'acquisition': {'price_amount': 180000000}},\n",
       " {'name': 'Recipezaar',\n",
       "  'founded_year': 1999,\n",
       "  'acquisition': {'price_amount': 25000000}},\n",
       " {'name': 'Cyworld',\n",
       "  'founded_year': 1999,\n",
       "  'acquisition': {'price_amount': 7140000}},\n",
       " {'name': 'PayPal',\n",
       "  'founded_year': 1998,\n",
       "  'acquisition': {'price_amount': 1500000000}}]"
      ]
     },
     "execution_count": 139,
     "metadata": {},
     "output_type": "execute_result"
    }
   ],
   "source": [
    "list(colec.find({'$and': [{'founded_year': {'$lt': 2000}},\n",
    "                          {'acquisition.price_amount': {'$gt': 10000}}]},{'_id': 0, 'name': 1, 'founded_year': 1, 'acquisition.price_amount':1}).limit(5))           \n",
    "    "
   ]
  },
  {
   "cell_type": "markdown",
   "metadata": {},
   "source": [
    "### 13. All the companies that have been acquired after 2010, order by the acquisition amount, and retrieve only their `name` and `acquisition` field."
   ]
  },
  {
   "cell_type": "code",
   "execution_count": 141,
   "metadata": {},
   "outputs": [
    {
     "data": {
      "text/plain": [
       "[{'name': 'T-Mobile',\n",
       "  'acquisition': {'price_amount': 39000000000, 'acquired_year': 2011}},\n",
       " {'name': 'Goodrich Corporation',\n",
       "  'acquisition': {'price_amount': 18400000000, 'acquired_year': 2011}},\n",
       " {'name': 'LSI',\n",
       "  'acquisition': {'price_amount': 6600000000, 'acquired_year': 2013}},\n",
       " {'name': 'National Semiconductor',\n",
       "  'acquisition': {'price_amount': 6500000000, 'acquired_year': 2011}},\n",
       " {'name': 'Ariba',\n",
       "  'acquisition': {'price_amount': 4300000000, 'acquired_year': 2012}}]"
      ]
     },
     "execution_count": 141,
     "metadata": {},
     "output_type": "execute_result"
    }
   ],
   "source": [
    "list(colec.find({'$and': [{'acquisition.acquired_year': {'$gt': 2010}},\n",
    "                          {'acquisition.price_amount': {'$gt': 0}}]},{'_id': 0, 'name': 1, 'acquisition.acquired_year': 1, 'acquisition.price_amount':1}).sort('acquisition.price_amount',-1).limit(5))           \n",
    "    "
   ]
  },
  {
   "cell_type": "markdown",
   "metadata": {},
   "source": [
    "### 14. Order the companies by their `founded year`, retrieving only their `name` and `founded year`."
   ]
  },
  {
   "cell_type": "code",
   "execution_count": 148,
   "metadata": {},
   "outputs": [
    {
     "data": {
      "text/plain": [
       "[{'name': 'Fox Interactive Media', 'founded_year': 1979},\n",
       " {'name': 'Twitter', 'founded_year': 2006},\n",
       " {'name': 'Facebook', 'founded_year': 2004},\n",
       " {'name': 'Geni', 'founded_year': 2006},\n",
       " {'name': 'Omnidrive', 'founded_year': 2005},\n",
       " {'name': 'Digg', 'founded_year': 2004},\n",
       " {'name': 'AdventNet', 'founded_year': 1996},\n",
       " {'name': 'Wetpaint', 'founded_year': 2005},\n",
       " {'name': 'Zoho', 'founded_year': 2005},\n",
       " {'name': 'Postini', 'founded_year': 1999}]"
      ]
     },
     "execution_count": 148,
     "metadata": {},
     "output_type": "execute_result"
    }
   ],
   "source": [
    "list(colec.find({'founded_year': {'$gt': 0}},\n",
    "                {'_id': 0, 'name': 1, 'founded_year': 1}).sort('founded_year, -1').limit(10)) "
   ]
  },
  {
   "cell_type": "markdown",
   "metadata": {},
   "source": [
    "### 15. All the companies that have been founded on the first seven days of the month, including the seventh. Sort them by their `acquisition price` in a descending order. Limit the search to 10 documents."
   ]
  },
  {
   "cell_type": "code",
   "execution_count": 150,
   "metadata": {},
   "outputs": [
    {
     "data": {
      "text/plain": [
       "[{'name': 'eBay', 'founded_day': 1},\n",
       " {'name': 'Joost', 'founded_day': 1, 'acquisition': {'price_amount': None}},\n",
       " {'name': 'Fox Interactive Media', 'founded_day': 1},\n",
       " {'name': 'Helio',\n",
       "  'founded_day': 1,\n",
       "  'acquisition': {'price_amount': 39000000}},\n",
       " {'name': 'StumbleUpon',\n",
       "  'founded_day': 1,\n",
       "  'acquisition': {'price_amount': 29000000}},\n",
       " {'name': 'Geni', 'founded_day': 1, 'acquisition': {'price_amount': None}},\n",
       " {'name': 'Omnidrive', 'founded_day': 1},\n",
       " {'name': 'Facebook', 'founded_day': 1},\n",
       " {'name': 'Postini',\n",
       "  'founded_day': 2,\n",
       "  'acquisition': {'price_amount': 625000000}},\n",
       " {'name': 'Gizmoz', 'founded_day': 1, 'acquisition': {'price_amount': None}}]"
      ]
     },
     "execution_count": 150,
     "metadata": {},
     "output_type": "execute_result"
    }
   ],
   "source": [
    "list(colec.find({'founded_day': {'$lte': 7}},\n",
    "                {'_id': 0, 'name': 1, 'founded_day': 1,'acquisition.price_amount':1}).sort('acquisition.price_amount, -1').limit(10))"
   ]
  },
  {
   "cell_type": "markdown",
   "metadata": {},
   "source": [
    "### 16. All the companies on the 'web' `category` that have more than 4000 employees. Sort them by the amount of employees in ascending order."
   ]
  },
  {
   "cell_type": "code",
   "execution_count": 152,
   "metadata": {},
   "outputs": [
    {
     "data": {
      "text/plain": [
       "[{'name': 'Adobe Systems', 'number_of_employees': 7173},\n",
       " {'name': 'Sony', 'number_of_employees': 180500},\n",
       " {'name': 'Google', 'number_of_employees': 28000},\n",
       " {'name': 'Nintendo', 'number_of_employees': 5080},\n",
       " {'name': 'Intel', 'number_of_employees': 86300},\n",
       " {'name': 'Yahoo!', 'number_of_employees': 13600},\n",
       " {'name': 'eBay', 'number_of_employees': 15000},\n",
       " {'name': 'Facebook', 'number_of_employees': 5299},\n",
       " {'name': 'Cisco', 'number_of_employees': 63000},\n",
       " {'name': 'LinkedIn', 'number_of_employees': 4800}]"
      ]
     },
     "execution_count": 152,
     "metadata": {},
     "output_type": "execute_result"
    }
   ],
   "source": [
    "list(colec.find({'number_of_employees': {'$gt': 4000}},\n",
    "                {'_id': 0, 'name': 1, 'web': 1,'number_of_employees':1}).sort('number_of_employees, -1').limit(10))"
   ]
  },
  {
   "cell_type": "markdown",
   "metadata": {},
   "source": [
    "### 17. All the companies whose acquisition amount is more than 10.000.000, and currency is 'EUR'."
   ]
  },
  {
   "cell_type": "code",
   "execution_count": 158,
   "metadata": {},
   "outputs": [
    {
     "data": {
      "text/plain": [
       "[{'name': 'ZYB',\n",
       "  'acquisition': {'price_amount': 31500000, 'price_currency_code': 'EUR'}},\n",
       " {'name': 'Apertio',\n",
       "  'acquisition': {'price_amount': 140000000, 'price_currency_code': 'EUR'}},\n",
       " {'name': 'Greenfield Online',\n",
       "  'acquisition': {'price_amount': 40000000, 'price_currency_code': 'EUR'}}]"
      ]
     },
     "execution_count": 158,
     "metadata": {},
     "output_type": "execute_result"
    }
   ],
   "source": [
    "list(colec.find({'$and': [{'acquisition.price_amount': {'$gt': 10000}},\n",
    "                          {'acquisition.price_currency_code': 'EUR'}]},\n",
    "                {'_id': 0, 'name': 1, 'web': 1,'acquisition.price_amount':1,'acquisition.price_currency_code':1}).limit(3))"
   ]
  },
  {
   "cell_type": "markdown",
   "metadata": {},
   "source": [
    "### 18. All the companies that have been acquired on the first trimester of the year. Limit the search to 10 companies, and retrieve only their `name` and `acquisition` fields."
   ]
  },
  {
   "cell_type": "code",
   "execution_count": 159,
   "metadata": {},
   "outputs": [
    {
     "data": {
      "text/plain": [
       "[{'name': 'StumbleUpon', 'acquisition': {'acquired_month': 4}},\n",
       " {'name': 'Kyte', 'acquisition': {'acquired_month': 1}},\n",
       " {'name': 'Veoh', 'acquisition': {'acquired_month': 4}},\n",
       " {'name': 'Jingle Networks', 'acquisition': {'acquired_month': 4}},\n",
       " {'name': 'NetRatings', 'acquisition': {'acquired_month': 2}},\n",
       " {'name': 'blogTV', 'acquisition': {'acquired_month': 3}},\n",
       " {'name': 'Livestream', 'acquisition': {'acquired_month': 1}},\n",
       " {'name': 'delicious', 'acquisition': {'acquired_month': 4}},\n",
       " {'name': 'Jobster', 'acquisition': {'acquired_month': 4}},\n",
       " {'name': 'Spock', 'acquisition': {'acquired_month': 4}}]"
      ]
     },
     "execution_count": 159,
     "metadata": {},
     "output_type": "execute_result"
    }
   ],
   "source": [
    "list(colec.find({'acquisition.acquired_month': {'$lte': 4}},\n",
    "                {'_id': 0, 'name': 1, 'acquisition.acquired_month': 1}).limit(10))"
   ]
  },
  {
   "cell_type": "markdown",
   "metadata": {},
   "source": [
    "# Bonus\n",
    "### 19. All the companies that have been founded between 2000 and 2010, but have not been acquired before 2011."
   ]
  },
  {
   "cell_type": "code",
   "execution_count": null,
   "metadata": {},
   "outputs": [],
   "source": [
    "# Your Code"
   ]
  },
  {
   "cell_type": "markdown",
   "metadata": {},
   "source": [
    "### 20. All the companies that have been 'deadpooled' after the third year."
   ]
  },
  {
   "cell_type": "code",
   "execution_count": null,
   "metadata": {},
   "outputs": [],
   "source": [
    "# Your Code"
   ]
  }
 ],
 "metadata": {
  "kernelspec": {
   "display_name": "Python 3 (ipykernel)",
   "language": "python",
   "name": "python3"
  },
  "language_info": {
   "codemirror_mode": {
    "name": "ipython",
    "version": 3
   },
   "file_extension": ".py",
   "mimetype": "text/x-python",
   "name": "python",
   "nbconvert_exporter": "python",
   "pygments_lexer": "ipython3",
   "version": "3.9.7"
  }
 },
 "nbformat": 4,
 "nbformat_minor": 2
}
